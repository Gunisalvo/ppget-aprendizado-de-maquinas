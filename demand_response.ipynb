{
 "cells": [
  {
   "cell_type": "code",
   "execution_count": 7,
   "outputs": [
    {
     "data": {
      "text/plain": "<pandas.io.formats.style.Styler at 0x11009dad0>",
      "text/html": "<style type=\"text/css\">\n</style>\n<table id=\"T_cb778_\">\n  <thead>\n    <tr>\n      <th class=\"blank level0\" >&nbsp;</th>\n      <th class=\"col_heading level0 col0\" >@ROW</th>\n      <th class=\"col_heading level0 col1\" >DeliveryDate</th>\n      <th class=\"col_heading level0 col2\" >TradeDate</th>\n      <th class=\"col_heading level0 col3\" >StartTime</th>\n      <th class=\"col_heading level0 col4\" >EndTime</th>\n      <th class=\"col_heading level0 col5\" >LoadForecastROI</th>\n      <th class=\"col_heading level0 col6\" >LoadForecastNI</th>\n      <th class=\"col_heading level0 col7\" >AggregatedForecast</th>\n    </tr>\n  </thead>\n  <tbody>\n    <tr>\n      <th id=\"T_cb778_level0_row0\" class=\"row_heading level0 row0\" >0</th>\n      <td id=\"T_cb778_row0_col0\" class=\"data row0 col0\" >1</td>\n      <td id=\"T_cb778_row0_col1\" class=\"data row0 col1\" >2022-05-23</td>\n      <td id=\"T_cb778_row0_col2\" class=\"data row0 col2\" >2022-05-24</td>\n      <td id=\"T_cb778_row0_col3\" class=\"data row0 col3\" >2022-05-23T22:00:00</td>\n      <td id=\"T_cb778_row0_col4\" class=\"data row0 col4\" >2022-05-23T22:30:00</td>\n      <td id=\"T_cb778_row0_col5\" class=\"data row0 col5\" >3237</td>\n      <td id=\"T_cb778_row0_col6\" class=\"data row0 col6\" >737</td>\n      <td id=\"T_cb778_row0_col7\" class=\"data row0 col7\" >3974</td>\n    </tr>\n    <tr>\n      <th id=\"T_cb778_level0_row1\" class=\"row_heading level0 row1\" >1</th>\n      <td id=\"T_cb778_row1_col0\" class=\"data row1 col0\" >2</td>\n      <td id=\"T_cb778_row1_col1\" class=\"data row1 col1\" >2022-05-23</td>\n      <td id=\"T_cb778_row1_col2\" class=\"data row1 col2\" >2022-05-24</td>\n      <td id=\"T_cb778_row1_col3\" class=\"data row1 col3\" >2022-05-23T22:30:00</td>\n      <td id=\"T_cb778_row1_col4\" class=\"data row1 col4\" >2022-05-23T23:00:00</td>\n      <td id=\"T_cb778_row1_col5\" class=\"data row1 col5\" >3102</td>\n      <td id=\"T_cb778_row1_col6\" class=\"data row1 col6\" >683</td>\n      <td id=\"T_cb778_row1_col7\" class=\"data row1 col7\" >3785</td>\n    </tr>\n    <tr>\n      <th id=\"T_cb778_level0_row2\" class=\"row_heading level0 row2\" >2</th>\n      <td id=\"T_cb778_row2_col0\" class=\"data row2 col0\" >3</td>\n      <td id=\"T_cb778_row2_col1\" class=\"data row2 col1\" >2022-05-23</td>\n      <td id=\"T_cb778_row2_col2\" class=\"data row2 col2\" >2022-05-24</td>\n      <td id=\"T_cb778_row2_col3\" class=\"data row2 col3\" >2022-05-23T23:00:00</td>\n      <td id=\"T_cb778_row2_col4\" class=\"data row2 col4\" >2022-05-23T23:30:00</td>\n      <td id=\"T_cb778_row2_col5\" class=\"data row2 col5\" >2986</td>\n      <td id=\"T_cb778_row2_col6\" class=\"data row2 col6\" >621</td>\n      <td id=\"T_cb778_row2_col7\" class=\"data row2 col7\" >3607</td>\n    </tr>\n    <tr>\n      <th id=\"T_cb778_level0_row3\" class=\"row_heading level0 row3\" >3</th>\n      <td id=\"T_cb778_row3_col0\" class=\"data row3 col0\" >4</td>\n      <td id=\"T_cb778_row3_col1\" class=\"data row3 col1\" >2022-05-23</td>\n      <td id=\"T_cb778_row3_col2\" class=\"data row3 col2\" >2022-05-24</td>\n      <td id=\"T_cb778_row3_col3\" class=\"data row3 col3\" >2022-05-23T23:30:00</td>\n      <td id=\"T_cb778_row3_col4\" class=\"data row3 col4\" >2022-05-24T00:00:00</td>\n      <td id=\"T_cb778_row3_col5\" class=\"data row3 col5\" >2913</td>\n      <td id=\"T_cb778_row3_col6\" class=\"data row3 col6\" >621</td>\n      <td id=\"T_cb778_row3_col7\" class=\"data row3 col7\" >3534</td>\n    </tr>\n    <tr>\n      <th id=\"T_cb778_level0_row4\" class=\"row_heading level0 row4\" >4</th>\n      <td id=\"T_cb778_row4_col0\" class=\"data row4 col0\" >5</td>\n      <td id=\"T_cb778_row4_col1\" class=\"data row4 col1\" >2022-05-24</td>\n      <td id=\"T_cb778_row4_col2\" class=\"data row4 col2\" >2022-05-24</td>\n      <td id=\"T_cb778_row4_col3\" class=\"data row4 col3\" >2022-05-24T00:00:00</td>\n      <td id=\"T_cb778_row4_col4\" class=\"data row4 col4\" >2022-05-24T00:30:00</td>\n      <td id=\"T_cb778_row4_col5\" class=\"data row4 col5\" >2819</td>\n      <td id=\"T_cb778_row4_col6\" class=\"data row4 col6\" >595</td>\n      <td id=\"T_cb778_row4_col7\" class=\"data row4 col7\" >3414</td>\n    </tr>\n    <tr>\n      <th id=\"T_cb778_level0_row5\" class=\"row_heading level0 row5\" >5</th>\n      <td id=\"T_cb778_row5_col0\" class=\"data row5 col0\" >6</td>\n      <td id=\"T_cb778_row5_col1\" class=\"data row5 col1\" >2022-05-24</td>\n      <td id=\"T_cb778_row5_col2\" class=\"data row5 col2\" >2022-05-24</td>\n      <td id=\"T_cb778_row5_col3\" class=\"data row5 col3\" >2022-05-24T00:30:00</td>\n      <td id=\"T_cb778_row5_col4\" class=\"data row5 col4\" >2022-05-24T01:00:00</td>\n      <td id=\"T_cb778_row5_col5\" class=\"data row5 col5\" >2782</td>\n      <td id=\"T_cb778_row5_col6\" class=\"data row5 col6\" >588</td>\n      <td id=\"T_cb778_row5_col7\" class=\"data row5 col7\" >3370</td>\n    </tr>\n    <tr>\n      <th id=\"T_cb778_level0_row6\" class=\"row_heading level0 row6\" >6</th>\n      <td id=\"T_cb778_row6_col0\" class=\"data row6 col0\" >7</td>\n      <td id=\"T_cb778_row6_col1\" class=\"data row6 col1\" >2022-05-24</td>\n      <td id=\"T_cb778_row6_col2\" class=\"data row6 col2\" >2022-05-24</td>\n      <td id=\"T_cb778_row6_col3\" class=\"data row6 col3\" >2022-05-24T01:00:00</td>\n      <td id=\"T_cb778_row6_col4\" class=\"data row6 col4\" >2022-05-24T01:30:00</td>\n      <td id=\"T_cb778_row6_col5\" class=\"data row6 col5\" >2724</td>\n      <td id=\"T_cb778_row6_col6\" class=\"data row6 col6\" >588</td>\n      <td id=\"T_cb778_row6_col7\" class=\"data row6 col7\" >3312</td>\n    </tr>\n    <tr>\n      <th id=\"T_cb778_level0_row7\" class=\"row_heading level0 row7\" >7</th>\n      <td id=\"T_cb778_row7_col0\" class=\"data row7 col0\" >8</td>\n      <td id=\"T_cb778_row7_col1\" class=\"data row7 col1\" >2022-05-24</td>\n      <td id=\"T_cb778_row7_col2\" class=\"data row7 col2\" >2022-05-24</td>\n      <td id=\"T_cb778_row7_col3\" class=\"data row7 col3\" >2022-05-24T01:30:00</td>\n      <td id=\"T_cb778_row7_col4\" class=\"data row7 col4\" >2022-05-24T02:00:00</td>\n      <td id=\"T_cb778_row7_col5\" class=\"data row7 col5\" >2683</td>\n      <td id=\"T_cb778_row7_col6\" class=\"data row7 col6\" >618</td>\n      <td id=\"T_cb778_row7_col7\" class=\"data row7 col7\" >3301</td>\n    </tr>\n    <tr>\n      <th id=\"T_cb778_level0_row8\" class=\"row_heading level0 row8\" >8</th>\n      <td id=\"T_cb778_row8_col0\" class=\"data row8 col0\" >9</td>\n      <td id=\"T_cb778_row8_col1\" class=\"data row8 col1\" >2022-05-24</td>\n      <td id=\"T_cb778_row8_col2\" class=\"data row8 col2\" >2022-05-24</td>\n      <td id=\"T_cb778_row8_col3\" class=\"data row8 col3\" >2022-05-24T02:00:00</td>\n      <td id=\"T_cb778_row8_col4\" class=\"data row8 col4\" >2022-05-24T02:30:00</td>\n      <td id=\"T_cb778_row8_col5\" class=\"data row8 col5\" >2670</td>\n      <td id=\"T_cb778_row8_col6\" class=\"data row8 col6\" >588</td>\n      <td id=\"T_cb778_row8_col7\" class=\"data row8 col7\" >3258</td>\n    </tr>\n    <tr>\n      <th id=\"T_cb778_level0_row9\" class=\"row_heading level0 row9\" >9</th>\n      <td id=\"T_cb778_row9_col0\" class=\"data row9 col0\" >10</td>\n      <td id=\"T_cb778_row9_col1\" class=\"data row9 col1\" >2022-05-24</td>\n      <td id=\"T_cb778_row9_col2\" class=\"data row9 col2\" >2022-05-24</td>\n      <td id=\"T_cb778_row9_col3\" class=\"data row9 col3\" >2022-05-24T02:30:00</td>\n      <td id=\"T_cb778_row9_col4\" class=\"data row9 col4\" >2022-05-24T03:00:00</td>\n      <td id=\"T_cb778_row9_col5\" class=\"data row9 col5\" >2654</td>\n      <td id=\"T_cb778_row9_col6\" class=\"data row9 col6\" >580</td>\n      <td id=\"T_cb778_row9_col7\" class=\"data row9 col7\" >3234</td>\n    </tr>\n  </tbody>\n</table>\n"
     },
     "execution_count": 7,
     "metadata": {},
     "output_type": "execute_result"
    }
   ],
   "source": [
    "import requests\n",
    "import xmltodict\n",
    "import pandas as pd\n",
    "\n",
    "response = requests.get('https://reports.sem-o.com/documents/PUB_DailyLoadFcst_202205241705.xml')\n",
    "df = pd.DataFrame.from_dict(xmltodict.parse(response.content)['OutboundData']['PUB_DailyLoadFcst'])\n",
    "df.head(10).style"
   ],
   "metadata": {
    "collapsed": false,
    "pycharm": {
     "name": "#%%\n"
    }
   }
  },
  {
   "cell_type": "code",
   "execution_count": 18,
   "outputs": [
    {
     "data": {
      "text/plain": "{'whiskers': [<matplotlib.lines.Line2D at 0x125679150>,\n  <matplotlib.lines.Line2D at 0x125679490>],\n 'caps': [<matplotlib.lines.Line2D at 0x1256797d0>,\n  <matplotlib.lines.Line2D at 0x125679b10>],\n 'boxes': [<matplotlib.lines.Line2D at 0x12566dd90>],\n 'medians': [<matplotlib.lines.Line2D at 0x125679e90>],\n 'fliers': [<matplotlib.lines.Line2D at 0x125686210>],\n 'means': []}"
     },
     "execution_count": 18,
     "metadata": {},
     "output_type": "execute_result"
    },
    {
     "data": {
      "text/plain": "<Figure size 432x288 with 1 Axes>",
      "image/png": "[encoded data removed]"
     },
     "metadata": {
      "needs_background": "light"
     },
     "output_type": "display_data"
    }
   ],
   "source": [
    "import matplotlib.pyplot as plt\n",
    "\n",
    "fig1, ax1 = plt.subplots()\n",
    "ax1.set_title('Aggregated Forecast')\n",
    "ax1.boxplot(list(map(lambda x: int(x), df['AggregatedForecast'].values.tolist())))"
   ],
   "metadata": {
    "collapsed": false,
    "pycharm": {
     "name": "#%%\n"
    }
   }
  }
 ],
 "metadata": {
  "kernelspec": {
   "display_name": "Python 3",
   "language": "python",
   "name": "python3"
  },
  "language_info": {
   "codemirror_mode": {
    "name": "ipython",
    "version": 2
   },
   "file_extension": ".py",
   "mimetype": "text/x-python",
   "name": "python",
   "nbconvert_exporter": "python",
   "pygments_lexer": "ipython2",
   "version": "2.7.6"
  }
 },
 "nbformat": 4,
 "nbformat_minor": 0
}