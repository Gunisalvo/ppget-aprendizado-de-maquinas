{
 "cells": [
  {
   "cell_type": "code",
   "execution_count": 993,
   "outputs": [
    {
     "data": {
      "text/plain": "Series([], Freq: 10T, Name: Global_active_power, dtype: float64)"
     },
     "execution_count": 993,
     "metadata": {},
     "output_type": "execute_result"
    }
   ],
   "source": [
    "from ppget.source import ModelSource, prepare_filesystem\n",
    "\n",
    "WINDOW = 4\n",
    "MODEL_NAME = \"model/cnn1d_time_cluster/\"\n",
    "\n",
    "start_date = \"2007-07-01\"\n",
    "end_date = \"2008-08-06\"\n",
    "# end_date = \"2009-06-01\"\n",
    "feature = \"Global_active_power\"\n",
    "\n",
    "prepare_filesystem(MODEL_NAME)\n",
    "source = ModelSource.load(start_date, end_date, feature)\n",
    "source.missing_data()"
   ],
   "metadata": {
    "collapsed": false,
    "pycharm": {
     "name": "#%%\n"
    }
   }
  },
  {
   "cell_type": "code",
   "execution_count": 994,
   "outputs": [
    {
     "data": {
      "text/plain": "count    57888.000000\nmean         1.088116\nstd          1.051975\nmin          0.078000\n25%          0.294200\n50%          0.591100\n75%          1.548200\nmax          8.514600\nName: Global_active_power, dtype: float64"
     },
     "execution_count": 994,
     "metadata": {},
     "output_type": "execute_result"
    }
   ],
   "source": [
    "series = source.series()\n",
    "series.describe()"
   ],
   "metadata": {
    "collapsed": false,
    "pycharm": {
     "name": "#%%\n"
    }
   }
  },
  {
   "cell_type": "code",
   "execution_count": 995,
   "outputs": [
    {
     "name": "stdout",
     "output_type": "stream",
     "text": [
      "CPU times: user 2.6 s, sys: 1.2 s, total: 3.8 s\n",
      "Wall time: 523 ms\n"
     ]
    }
   ],
   "source": [
    "%%time\n",
    "from sklearn.cluster import KMeans\n",
    "import pandas as pd\n",
    "\n",
    "daily_slices = 4\n",
    "\n",
    "year_split = int(len(series) * 0.9)\n",
    "l1 = 0\n",
    "kw_hour = pd.DataFrame(zip(list(series.values),list(series.index.hour)))\n",
    "d_kmeans = KMeans(n_clusters=daily_slices).fit(kw_hour[l1:year_split])"
   ],
   "metadata": {
    "collapsed": false,
    "pycharm": {
     "name": "#%%\n"
    }
   }
  },
  {
   "cell_type": "code",
   "execution_count": 996,
   "outputs": [],
   "source": [
    "import pickle\n",
    "\n",
    "pickle.dump(d_kmeans, open(f\"{MODEL_NAME}cluster/d_kmeans.pkl\", \"wb\"))"
   ],
   "metadata": {
    "collapsed": false,
    "pycharm": {
     "name": "#%%\n"
    }
   }
  },
  {
   "cell_type": "code",
   "execution_count": 997,
   "outputs": [
    {
     "name": "stdout",
     "output_type": "stream",
     "text": [
      "CPU times: user 3.04 s, sys: 1.04 s, total: 4.07 s\n",
      "Wall time: 406 ms\n"
     ]
    }
   ],
   "source": [
    "%%time\n",
    "monthly_slices = 3\n",
    "\n",
    "kw_month = pd.DataFrame(zip(list(series.values),list(series.index.month)))\n",
    "m_kmeans = KMeans(n_clusters=monthly_slices).fit(kw_month[l1:year_split])"
   ],
   "metadata": {
    "collapsed": false,
    "pycharm": {
     "name": "#%%\n"
    }
   }
  },
  {
   "cell_type": "code",
   "execution_count": 998,
   "outputs": [],
   "source": [
    "# pickle.dump(m_kmeans, open(f\"{MODEL_NAME}cluster/m_kmeans.pkl\", \"wb\"))"
   ],
   "metadata": {
    "collapsed": false,
    "pycharm": {
     "name": "#%%\n"
    }
   }
  },
  {
   "cell_type": "code",
   "execution_count": 999,
   "outputs": [],
   "source": [
    "weekly_slices = 3\n",
    "\n",
    "kw_day = pd.DataFrame(zip(list(series.values),list(series.index.dayofweek)))\n",
    "w_kmeans = KMeans(n_clusters=weekly_slices).fit(kw_day[l1:year_split])"
   ],
   "metadata": {
    "collapsed": false,
    "pycharm": {
     "name": "#%%\n"
    }
   }
  },
  {
   "cell_type": "code",
   "execution_count": 1000,
   "outputs": [],
   "source": [
    "# pickle.dump(w_kmeans, open(f\"{MODEL_NAME}cluster/w_kmeans.pkl\", \"wb\"))"
   ],
   "metadata": {
    "collapsed": false,
    "pycharm": {
     "name": "#%%\n"
    }
   }
  },
  {
   "cell_type": "code",
   "execution_count": 1001,
   "outputs": [
    {
     "data": {
      "text/plain": "   daily_slice  weekly_slice  monthly_slice\n0            1             2              2\n1            1             2              2\n2            1             2              2\n3            1             2              2\n4            1             2              2",
      "text/html": "<div>\n<style scoped>\n    .dataframe tbody tr th:only-of-type {\n        vertical-align: middle;\n    }\n\n    .dataframe tbody tr th {\n        vertical-align: top;\n    }\n\n    .dataframe thead th {\n        text-align: right;\n    }\n</style>\n<table border=\"1\" class=\"dataframe\">\n  <thead>\n    <tr style=\"text-align: right;\">\n      <th></th>\n      <th>daily_slice</th>\n      <th>weekly_slice</th>\n      <th>monthly_slice</th>\n    </tr>\n  </thead>\n  <tbody>\n    <tr>\n      <th>0</th>\n      <td>1</td>\n      <td>2</td>\n      <td>2</td>\n    </tr>\n    <tr>\n      <th>1</th>\n      <td>1</td>\n      <td>2</td>\n      <td>2</td>\n    </tr>\n    <tr>\n      <th>2</th>\n      <td>1</td>\n      <td>2</td>\n      <td>2</td>\n    </tr>\n    <tr>\n      <th>3</th>\n      <td>1</td>\n      <td>2</td>\n      <td>2</td>\n    </tr>\n    <tr>\n      <th>4</th>\n      <td>1</td>\n      <td>2</td>\n      <td>2</td>\n    </tr>\n  </tbody>\n</table>\n</div>"
     },
     "execution_count": 1001,
     "metadata": {},
     "output_type": "execute_result"
    }
   ],
   "source": [
    "cluster_map = pd.DataFrame(zip(list(d_kmeans.predict(kw_hour)),list(w_kmeans.predict(kw_day)),list(m_kmeans.predict(kw_month))))\n",
    "cluster_map.columns = [\"daily_slice\", \"weekly_slice\", \"monthly_slice\"]\n",
    "cluster_map.head()"
   ],
   "metadata": {
    "collapsed": false,
    "pycharm": {
     "name": "#%%\n"
    }
   }
  },
  {
   "cell_type": "code",
   "execution_count": 1002,
   "outputs": [
    {
     "data": {
      "text/plain": "          0    1    2    3    4\n0  0.308560  0.0  1.0  0.0  0.0\n1  0.304886  0.0  1.0  0.0  0.0\n2  0.302089  0.0  1.0  0.0  0.0\n3  0.289951  0.0  1.0  0.0  0.0\n4  0.298936  0.0  1.0  0.0  0.0",
      "text/html": "<div>\n<style scoped>\n    .dataframe tbody tr th:only-of-type {\n        vertical-align: middle;\n    }\n\n    .dataframe tbody tr th {\n        vertical-align: top;\n    }\n\n    .dataframe thead th {\n        text-align: right;\n    }\n</style>\n<table border=\"1\" class=\"dataframe\">\n  <thead>\n    <tr style=\"text-align: right;\">\n      <th></th>\n      <th>0</th>\n      <th>1</th>\n      <th>2</th>\n      <th>3</th>\n      <th>4</th>\n    </tr>\n  </thead>\n  <tbody>\n    <tr>\n      <th>0</th>\n      <td>0.308560</td>\n      <td>0.0</td>\n      <td>1.0</td>\n      <td>0.0</td>\n      <td>0.0</td>\n    </tr>\n    <tr>\n      <th>1</th>\n      <td>0.304886</td>\n      <td>0.0</td>\n      <td>1.0</td>\n      <td>0.0</td>\n      <td>0.0</td>\n    </tr>\n    <tr>\n      <th>2</th>\n      <td>0.302089</td>\n      <td>0.0</td>\n      <td>1.0</td>\n      <td>0.0</td>\n      <td>0.0</td>\n    </tr>\n    <tr>\n      <th>3</th>\n      <td>0.289951</td>\n      <td>0.0</td>\n      <td>1.0</td>\n      <td>0.0</td>\n      <td>0.0</td>\n    </tr>\n    <tr>\n      <th>4</th>\n      <td>0.298936</td>\n      <td>0.0</td>\n      <td>1.0</td>\n      <td>0.0</td>\n      <td>0.0</td>\n    </tr>\n  </tbody>\n</table>\n</div>"
     },
     "execution_count": 1002,
     "metadata": {},
     "output_type": "execute_result"
    }
   ],
   "source": [
    "from ppget.training import DatasetBuilder, TrainSplit\n",
    "from sklearn.preprocessing import MinMaxScaler\n",
    "from sklearn.preprocessing import LabelBinarizer\n",
    "import numpy as np\n",
    "\n",
    "d_kmeans = pickle.load(open(f\"{MODEL_NAME}cluster/d_kmeans.pkl\", \"rb\"))\n",
    "# w_kmeans = pickle.load(open(f\"{MODEL_NAME}cluster/w_kmeans.pkl\", \"rb\"))\n",
    "# m_kmeans = pickle.load(open(f\"{MODEL_NAME}cluster/m_kmeans.pkl\", \"rb\"))\n",
    "\n",
    "values = series.values.reshape((len(series.values), 1))\n",
    "scaler = MinMaxScaler(feature_range=(0, 1))\n",
    "normaliser = scaler.fit(values)\n",
    "original_frame = normaliser.transform(values)\n",
    "\n",
    "plus_s_day = np.append(original_frame, LabelBinarizer().fit_transform(d_kmeans.predict(kw_hour)), axis=1)\n",
    "# plus_s_week = np.append(plus_s_day, LabelBinarizer().fit_transform(w_kmeans.predict(kw_day)), axis=1)\n",
    "# plus_s_month = np.append(plus_s_day, LabelBinarizer().fit_transform(m_kmeans.predict(kw_month)), axis=1)\n",
    "\n",
    "encoded_seasons = pd.DataFrame(plus_s_day)\n",
    "encoded_seasons.head()"
   ],
   "metadata": {
    "collapsed": false,
    "pycharm": {
     "name": "#%%\n"
    }
   }
  },
  {
   "cell_type": "code",
   "execution_count": 1003,
   "outputs": [
    {
     "data": {
      "text/plain": "((52095, 4, 5), (52095,), (5789, 4, 5), (5789,))"
     },
     "execution_count": 1003,
     "metadata": {},
     "output_type": "execute_result"
    }
   ],
   "source": [
    "builder = DatasetBuilder(encoded_seasons, data_split=TrainSplit(), window_size=WINDOW, normalised=False, all_features=True)\n",
    "\n",
    "S = builder.build_splits()\n",
    "\n",
    "S[\"training\"][\"X\"].shape, S[\"training\"][\"y\"].shape, S[\"test\"][\"X\"].shape, S[\"test\"][\"y\"].shape"
   ],
   "metadata": {
    "collapsed": false,
    "pycharm": {
     "name": "#%%\n"
    }
   }
  },
  {
   "cell_type": "code",
   "execution_count": 1004,
   "outputs": [
    {
     "name": "stdout",
     "output_type": "stream",
     "text": [
      "Model: \"sequential_72\"\n",
      "_________________________________________________________________\n",
      "Layer (type)                 Output Shape              Param #   \n",
      "=================================================================\n",
      "conv1d_73 (Conv1D)           (None, 3, 8)              88        \n",
      "_________________________________________________________________\n",
      "flatten_72 (Flatten)         (None, 24)                0         \n",
      "_________________________________________________________________\n",
      "dense_144 (Dense)            (None, 4)                 100       \n",
      "_________________________________________________________________\n",
      "dense_145 (Dense)            (None, 1)                 5         \n",
      "=================================================================\n",
      "Total params: 193\n",
      "Trainable params: 193\n",
      "Non-trainable params: 0\n",
      "_________________________________________________________________\n"
     ]
    }
   ],
   "source": [
    "from tensorflow.python.keras.models import Sequential\n",
    "from tensorflow.python.keras.layers import InputLayer, Dense, Conv1D, Flatten, Dropout, MaxPooling1D\n",
    "from tensorflow.python.keras.metrics import RootMeanSquaredError\n",
    "from tensorflow.python.keras.callbacks import ModelCheckpoint, EarlyStopping\n",
    "\n",
    "model = Sequential()\n",
    "model.add(InputLayer((WINDOW,\n",
    "                      daily_slices +\n",
    "                      # weekly_slices +\n",
    "                      # monthly_slices +\n",
    "                      1)))\n",
    "model.add(Conv1D(8, kernel_size=2, activation='relu'))\n",
    "model.add(Flatten())\n",
    "model.add(Dense(4, 'relu'))\n",
    "model.add(Dense(1, 'linear'))\n",
    "callbacks = [ModelCheckpoint(MODEL_NAME, monitor=\"val_loss\", save_best_only=True, mode=\"min\"), EarlyStopping(patience=4, monitor=\"val_loss\")]\n",
    "model.compile(loss=\"mse\", optimizer=\"adam\", metrics=[RootMeanSquaredError()])\n",
    "model.summary()"
   ],
   "metadata": {
    "collapsed": false,
    "pycharm": {
     "name": "#%%\n"
    }
   }
  },
  {
   "cell_type": "code",
   "execution_count": 1005,
   "outputs": [
    {
     "name": "stdout",
     "output_type": "stream",
     "text": [
      "Epoch 1/100\n",
      "2605/2605 - 7s - loss: 0.0117 - root_mean_squared_error: 0.1080 - val_loss: 0.0038 - val_root_mean_squared_error: 0.0615\n",
      "INFO:tensorflow:Assets written to: model/cnn1d_time_cluster/assets\n",
      "Epoch 2/100\n",
      "2605/2605 - 6s - loss: 0.0039 - root_mean_squared_error: 0.0625 - val_loss: 0.0035 - val_root_mean_squared_error: 0.0593\n",
      "INFO:tensorflow:Assets written to: model/cnn1d_time_cluster/assets\n",
      "Epoch 3/100\n",
      "2605/2605 - 6s - loss: 0.0038 - root_mean_squared_error: 0.0615 - val_loss: 0.0036 - val_root_mean_squared_error: 0.0599\n",
      "Epoch 4/100\n",
      "2605/2605 - 6s - loss: 0.0038 - root_mean_squared_error: 0.0614 - val_loss: 0.0035 - val_root_mean_squared_error: 0.0596\n",
      "Epoch 5/100\n",
      "2605/2605 - 6s - loss: 0.0038 - root_mean_squared_error: 0.0613 - val_loss: 0.0036 - val_root_mean_squared_error: 0.0601\n",
      "Epoch 6/100\n",
      "2605/2605 - 6s - loss: 0.0037 - root_mean_squared_error: 0.0612 - val_loss: 0.0035 - val_root_mean_squared_error: 0.0592\n",
      "INFO:tensorflow:Assets written to: model/cnn1d_time_cluster/assets\n",
      "Epoch 7/100\n",
      "2605/2605 - 6s - loss: 0.0037 - root_mean_squared_error: 0.0612 - val_loss: 0.0037 - val_root_mean_squared_error: 0.0605\n",
      "Epoch 8/100\n",
      "2605/2605 - 5s - loss: 0.0037 - root_mean_squared_error: 0.0612 - val_loss: 0.0036 - val_root_mean_squared_error: 0.0596\n",
      "Epoch 9/100\n",
      "2605/2605 - 6s - loss: 0.0037 - root_mean_squared_error: 0.0611 - val_loss: 0.0035 - val_root_mean_squared_error: 0.0589\n",
      "INFO:tensorflow:Assets written to: model/cnn1d_time_cluster/assets\n",
      "Epoch 10/100\n",
      "2605/2605 - 5s - loss: 0.0037 - root_mean_squared_error: 0.0610 - val_loss: 0.0035 - val_root_mean_squared_error: 0.0594\n",
      "Epoch 11/100\n",
      "2605/2605 - 5s - loss: 0.0037 - root_mean_squared_error: 0.0610 - val_loss: 0.0036 - val_root_mean_squared_error: 0.0599\n",
      "Epoch 12/100\n",
      "2605/2605 - 5s - loss: 0.0037 - root_mean_squared_error: 0.0609 - val_loss: 0.0036 - val_root_mean_squared_error: 0.0601\n",
      "Epoch 13/100\n",
      "2605/2605 - 5s - loss: 0.0037 - root_mean_squared_error: 0.0608 - val_loss: 0.0036 - val_root_mean_squared_error: 0.0598\n",
      "min RMSE(validation): 0.003463856875896454\n",
      "CPU times: user 1min 37s, sys: 16.6 s, total: 1min 54s\n",
      "Wall time: 1min 18s\n"
     ]
    }
   ],
   "source": [
    "%%time\n",
    "h = model.fit(S[\"training\"][\"X\"], S[\"training\"][\"y\"],\n",
    "                    epochs=100,\n",
    "                    batch_size=16,\n",
    "                    validation_split=0.2,\n",
    "                    verbose=2,\n",
    "                    callbacks=callbacks)\n",
    "print(f\"min RMSE(validation): {min(h.history['val_loss'])}\")"
   ],
   "metadata": {
    "collapsed": false,
    "pycharm": {
     "name": "#%%\n"
    }
   }
  },
  {
   "cell_type": "code",
   "execution_count": 1006,
   "outputs": [
    {
     "name": "stdout",
     "output_type": "stream",
     "text": [
      "CPU times: user 736 ms, sys: 50.6 ms, total: 786 ms\n",
      "Wall time: 741 ms\n"
     ]
    },
    {
     "data": {
      "text/plain": "5789"
     },
     "execution_count": 1006,
     "metadata": {},
     "output_type": "execute_result"
    }
   ],
   "source": [
    "%%time\n",
    "from tensorflow.python.keras.models import load_model\n",
    "\n",
    "model = load_model(MODEL_NAME)\n",
    "\n",
    "predictions = model.predict(S[\"test\"][\"X\"]).flatten()\n",
    "len(predictions)"
   ],
   "metadata": {
    "collapsed": false,
    "pycharm": {
     "name": "#%%\n"
    }
   }
  },
  {
   "cell_type": "code",
   "execution_count": 1007,
   "outputs": [
    {
     "data": {
      "text/plain": "   Predictions  Ground Truth\n0     0.204308      0.223336\n1     0.230274      0.103952\n2     0.090165      0.032003\n3     0.037801      0.104497\n4     0.127800      0.205604",
      "text/html": "<div>\n<style scoped>\n    .dataframe tbody tr th:only-of-type {\n        vertical-align: middle;\n    }\n\n    .dataframe tbody tr th {\n        vertical-align: top;\n    }\n\n    .dataframe thead th {\n        text-align: right;\n    }\n</style>\n<table border=\"1\" class=\"dataframe\">\n  <thead>\n    <tr style=\"text-align: right;\">\n      <th></th>\n      <th>Predictions</th>\n      <th>Ground Truth</th>\n    </tr>\n  </thead>\n  <tbody>\n    <tr>\n      <th>0</th>\n      <td>0.204308</td>\n      <td>0.223336</td>\n    </tr>\n    <tr>\n      <th>1</th>\n      <td>0.230274</td>\n      <td>0.103952</td>\n    </tr>\n    <tr>\n      <th>2</th>\n      <td>0.090165</td>\n      <td>0.032003</td>\n    </tr>\n    <tr>\n      <th>3</th>\n      <td>0.037801</td>\n      <td>0.104497</td>\n    </tr>\n    <tr>\n      <th>4</th>\n      <td>0.127800</td>\n      <td>0.205604</td>\n    </tr>\n  </tbody>\n</table>\n</div>"
     },
     "execution_count": 1007,
     "metadata": {},
     "output_type": "execute_result"
    }
   ],
   "source": [
    "import pandas as pd\n",
    "\n",
    "test_results = pd.DataFrame(data={\"Predictions\": predictions, \"Ground Truth\": S[\"test\"][\"y\"]})\n",
    "test_results.head()"
   ],
   "metadata": {
    "collapsed": false,
    "pycharm": {
     "name": "#%%\n"
    }
   }
  },
  {
   "cell_type": "code",
   "execution_count": 1008,
   "outputs": [
    {
     "name": "stdout",
     "output_type": "stream",
     "text": [
      "Model Scores - (R2): 0.969, (Adj R2): 0.969, (RMSE): 0.015 KW. Model Size - 332173 bytes.\n"
     ]
    }
   ],
   "source": [
    "from ppget.metrics import ModelEvaluation\n",
    "\n",
    "print(ModelEvaluation(expected=test_results[\"Ground Truth\"][:-1],\n",
    "                      predicted=test_results[\"Predictions\"].shift(-1)[:-1],\n",
    "                      m=3,\n",
    "                      model_path=MODEL_NAME))"
   ],
   "metadata": {
    "collapsed": false,
    "pycharm": {
     "name": "#%%\n"
    }
   }
  },
  {
   "cell_type": "code",
   "execution_count": 1009,
   "outputs": [
    {
     "data": {
      "text/plain": "<Figure size 1440x360 with 1 Axes>",
      "image/png": "[encoded data removed]"
     },
     "metadata": {
      "needs_background": "light"
     },
     "output_type": "display_data"
    }
   ],
   "source": [
    "import matplotlib.pyplot as plt\n",
    "\n",
    "fig, ax = plt.subplots(figsize=(20,5))\n",
    "ax.plot(test_results[\"Ground Truth\"], label=\"Ground Truth\")\n",
    "ax.plot(test_results[\"Predictions\"].shift(-1), label=\"Prediction\")\n",
    "\n",
    "plt.legend([\"Ground Truth\", \"Prediction\"])\n",
    "plt.xlim([2200, 2400])\n",
    "plt.show()"
   ],
   "metadata": {
    "collapsed": false,
    "pycharm": {
     "name": "#%%\n"
    }
   }
  }
 ],
 "metadata": {
  "kernelspec": {
   "name": "python3",
   "language": "python",
   "display_name": "Python 3 (ipykernel)"
  },
  "language_info": {
   "codemirror_mode": {
    "name": "ipython",
    "version": 2
   },
   "file_extension": ".py",
   "mimetype": "text/x-python",
   "name": "python",
   "nbconvert_exporter": "python",
   "pygments_lexer": "ipython2",
   "version": "2.7.6"
  }
 },
 "nbformat": 4,
 "nbformat_minor": 0
}