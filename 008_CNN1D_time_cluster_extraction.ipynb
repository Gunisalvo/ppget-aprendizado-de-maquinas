{
 "cells": [
  {
   "cell_type": "code",
   "execution_count": 1,
   "outputs": [
    {
     "data": {
      "text/plain": "Series([], Freq: 10T, Name: Global_active_power, dtype: float64)"
     },
     "execution_count": 1,
     "metadata": {},
     "output_type": "execute_result"
    }
   ],
   "source": [
    "from ppget.source import ModelSource\n",
    "\n",
    "start_date = \"2007-07-01\"\n",
    "end_date = \"2008-07-01\"\n",
    "feature = \"Global_active_power\"\n",
    "\n",
    "source = ModelSource.load(start_date, end_date, feature)\n",
    "source.missing_data()"
   ],
   "metadata": {
    "collapsed": false,
    "pycharm": {
     "name": "#%%\n"
    }
   }
  },
  {
   "cell_type": "code",
   "execution_count": 2,
   "outputs": [],
   "source": [
    "from sklearn.cluster import KMeans\n",
    "import pandas as pd\n",
    "\n",
    "daily_slices = 4\n",
    "\n",
    "series = source.series()\n",
    "kw_hour = pd.DataFrame(zip(list(series.values),list(series.index.hour)))\n",
    "d_kmeans = KMeans(n_clusters=daily_slices).fit(kw_hour)"
   ],
   "metadata": {
    "collapsed": false,
    "pycharm": {
     "name": "#%%\n"
    }
   }
  },
  {
   "cell_type": "code",
   "execution_count": 3,
   "outputs": [],
   "source": [
    "monthly_slices = 4\n",
    "\n",
    "kw_month = pd.DataFrame(zip(list(series.values),list(series.index.month)))\n",
    "m_kmeans = KMeans(n_clusters=monthly_slices).fit(kw_month)"
   ],
   "metadata": {
    "collapsed": false,
    "pycharm": {
     "name": "#%%\n"
    }
   }
  },
  {
   "cell_type": "code",
   "execution_count": 4,
   "outputs": [
    {
     "data": {
      "text/plain": "   daily_slice  monthly_slice\n0            1              0\n1            1              0\n2            1              0\n3            1              0\n4            1              0",
      "text/html": "<div>\n<style scoped>\n    .dataframe tbody tr th:only-of-type {\n        vertical-align: middle;\n    }\n\n    .dataframe tbody tr th {\n        vertical-align: top;\n    }\n\n    .dataframe thead th {\n        text-align: right;\n    }\n</style>\n<table border=\"1\" class=\"dataframe\">\n  <thead>\n    <tr style=\"text-align: right;\">\n      <th></th>\n      <th>daily_slice</th>\n      <th>monthly_slice</th>\n    </tr>\n  </thead>\n  <tbody>\n    <tr>\n      <th>0</th>\n      <td>1</td>\n      <td>0</td>\n    </tr>\n    <tr>\n      <th>1</th>\n      <td>1</td>\n      <td>0</td>\n    </tr>\n    <tr>\n      <th>2</th>\n      <td>1</td>\n      <td>0</td>\n    </tr>\n    <tr>\n      <th>3</th>\n      <td>1</td>\n      <td>0</td>\n    </tr>\n    <tr>\n      <th>4</th>\n      <td>1</td>\n      <td>0</td>\n    </tr>\n  </tbody>\n</table>\n</div>"
     },
     "execution_count": 4,
     "metadata": {},
     "output_type": "execute_result"
    }
   ],
   "source": [
    "cluster_map = pd.DataFrame(zip(list(d_kmeans.predict(kw_hour)),list(m_kmeans.predict(kw_month))))\n",
    "cluster_map.columns = [\"daily_slice\", \"monthly_slice\"]\n",
    "cluster_map.head()"
   ],
   "metadata": {
    "collapsed": false,
    "pycharm": {
     "name": "#%%\n"
    }
   }
  },
  {
   "cell_type": "code",
   "execution_count": 5,
   "outputs": [
    {
     "data": {
      "text/plain": "((47429, 4, 3), (47429,), (5270, 4, 3), (5270,))"
     },
     "execution_count": 5,
     "metadata": {},
     "output_type": "execute_result"
    }
   ],
   "source": [
    "from ppget.datastructure import DatasetBuilder, TrainSplit\n",
    "\n",
    "WINDOW = 4\n",
    "MODEL_NAME = \"model/cnn1d_time_cluster/\"\n",
    "\n",
    "b = DatasetBuilder(series, data_split=TrainSplit(), window_size=1)\n",
    "builder = DatasetBuilder(pd.DataFrame(zip(list(b.X.flatten()), d_kmeans.predict(kw_hour), m_kmeans.predict(kw_month))), data_split=TrainSplit(), window_size=WINDOW, normalised=False, all_features=True)\n",
    "\n",
    "S = builder.build_splits()\n",
    "\n",
    "S[\"training\"][\"X\"].shape, S[\"training\"][\"y\"].shape, S[\"test\"][\"X\"].shape, S[\"test\"][\"y\"].shape"
   ],
   "metadata": {
    "collapsed": false,
    "pycharm": {
     "name": "#%%\n"
    }
   }
  },
  {
   "cell_type": "code",
   "execution_count": 6,
   "outputs": [
    {
     "name": "stdout",
     "output_type": "stream",
     "text": [
      "Model: \"sequential\"\n",
      "_________________________________________________________________\n",
      "Layer (type)                 Output Shape              Param #   \n",
      "=================================================================\n",
      "conv1d (Conv1D)              (None, 3, 64)             448       \n",
      "_________________________________________________________________\n",
      "flatten (Flatten)            (None, 192)               0         \n",
      "_________________________________________________________________\n",
      "dropout (Dropout)            (None, 192)               0         \n",
      "_________________________________________________________________\n",
      "dense (Dense)                (None, 64)                12352     \n",
      "_________________________________________________________________\n",
      "dense_1 (Dense)              (None, 1)                 65        \n",
      "=================================================================\n",
      "Total params: 12,865\n",
      "Trainable params: 12,865\n",
      "Non-trainable params: 0\n",
      "_________________________________________________________________\n"
     ]
    },
    {
     "name": "stderr",
     "output_type": "stream",
     "text": [
      "2022-06-04 11:12:45.239474: I tensorflow/core/platform/cpu_feature_guard.cc:193] This TensorFlow binary is optimized with oneAPI Deep Neural Network Library (oneDNN) to use the following CPU instructions in performance-critical operations:  AVX2 FMA\n",
      "To enable them in other operations, rebuild TensorFlow with the appropriate compiler flags.\n"
     ]
    }
   ],
   "source": [
    "from tensorflow.python.keras.models import Sequential\n",
    "from tensorflow.python.keras.layers import InputLayer, Dense, Conv1D, Flatten, Dropout\n",
    "from tensorflow.python.keras.metrics import RootMeanSquaredError\n",
    "from tensorflow.python.keras.callbacks import ModelCheckpoint, EarlyStopping\n",
    "\n",
    "model = Sequential()\n",
    "model.add(InputLayer((WINDOW, 3)))\n",
    "model.add(Conv1D(64, kernel_size=2, activation='relu'))\n",
    "model.add(Flatten())\n",
    "model.add(Dropout(0.05))\n",
    "model.add(Dense(64, 'relu'))\n",
    "model.add(Dense(1, 'linear'))\n",
    "callbacks = [ModelCheckpoint(MODEL_NAME, monitor=\"val_loss\", save_best_only=True, mode=\"min\"), EarlyStopping(patience=5, monitor=\"val_loss\")]\n",
    "model.compile(loss=\"mse\", optimizer=\"adam\", metrics=[RootMeanSquaredError()])\n",
    "model.summary()"
   ],
   "metadata": {
    "collapsed": false,
    "pycharm": {
     "name": "#%%\n"
    }
   }
  },
  {
   "cell_type": "code",
   "execution_count": 7,
   "outputs": [
    {
     "name": "stdout",
     "output_type": "stream",
     "text": [
      "Epoch 1/25\n",
      "4743/4743 - 10s - loss: 0.0053 - root_mean_squared_error: 0.0731 - val_loss: 0.0051 - val_root_mean_squared_error: 0.0714\n",
      "INFO:tensorflow:Assets written to: model/cnn1d_time_cluster/assets\n",
      "Epoch 2/25\n",
      "4743/4743 - 10s - loss: 0.0041 - root_mean_squared_error: 0.0640 - val_loss: 0.0037 - val_root_mean_squared_error: 0.0608\n",
      "INFO:tensorflow:Assets written to: model/cnn1d_time_cluster/assets\n",
      "Epoch 3/25\n",
      "4743/4743 - 7s - loss: 0.0040 - root_mean_squared_error: 0.0633 - val_loss: 0.0036 - val_root_mean_squared_error: 0.0600\n",
      "INFO:tensorflow:Assets written to: model/cnn1d_time_cluster/assets\n",
      "Epoch 4/25\n",
      "4743/4743 - 8s - loss: 0.0040 - root_mean_squared_error: 0.0629 - val_loss: 0.0036 - val_root_mean_squared_error: 0.0597\n",
      "INFO:tensorflow:Assets written to: model/cnn1d_time_cluster/assets\n",
      "Epoch 5/25\n",
      "4743/4743 - 4s - loss: 0.0039 - root_mean_squared_error: 0.0625 - val_loss: 0.0037 - val_root_mean_squared_error: 0.0611\n",
      "Epoch 6/25\n",
      "4743/4743 - 4s - loss: 0.0039 - root_mean_squared_error: 0.0624 - val_loss: 0.0035 - val_root_mean_squared_error: 0.0592\n",
      "INFO:tensorflow:Assets written to: model/cnn1d_time_cluster/assets\n",
      "Epoch 7/25\n",
      "4743/4743 - 4s - loss: 0.0039 - root_mean_squared_error: 0.0622 - val_loss: 0.0036 - val_root_mean_squared_error: 0.0604\n",
      "Epoch 8/25\n",
      "4743/4743 - 4s - loss: 0.0038 - root_mean_squared_error: 0.0620 - val_loss: 0.0036 - val_root_mean_squared_error: 0.0603\n",
      "Epoch 9/25\n",
      "4743/4743 - 6s - loss: 0.0038 - root_mean_squared_error: 0.0619 - val_loss: 0.0037 - val_root_mean_squared_error: 0.0611\n",
      "Epoch 10/25\n",
      "4743/4743 - 8s - loss: 0.0038 - root_mean_squared_error: 0.0617 - val_loss: 0.0039 - val_root_mean_squared_error: 0.0628\n",
      "Epoch 11/25\n",
      "4743/4743 - 8s - loss: 0.0038 - root_mean_squared_error: 0.0615 - val_loss: 0.0036 - val_root_mean_squared_error: 0.0600\n",
      "min RMSE(validation): 0.003509300295263529\n",
      "CPU times: user 1min 39s, sys: 23.9 s, total: 2min 3s\n",
      "Wall time: 1min 16s\n"
     ]
    }
   ],
   "source": [
    "%%time\n",
    "h = model.fit(S[\"training\"][\"X\"], S[\"training\"][\"y\"],\n",
    "                    epochs=25,\n",
    "                    batch_size=8,\n",
    "                    validation_split=0.2,\n",
    "                    verbose=2,\n",
    "                    callbacks=callbacks)\n",
    "print(f\"min RMSE(validation): {min(h.history['val_loss'])}\")"
   ],
   "metadata": {
    "collapsed": false,
    "pycharm": {
     "name": "#%%\n"
    }
   }
  },
  {
   "cell_type": "code",
   "execution_count": 8,
   "outputs": [
    {
     "name": "stdout",
     "output_type": "stream",
     "text": [
      "CPU times: user 902 ms, sys: 46.2 ms, total: 948 ms\n",
      "Wall time: 935 ms\n"
     ]
    },
    {
     "data": {
      "text/plain": "5270"
     },
     "execution_count": 8,
     "metadata": {},
     "output_type": "execute_result"
    }
   ],
   "source": [
    "%%time\n",
    "from tensorflow.python.keras.models import load_model\n",
    "\n",
    "model = load_model(MODEL_NAME)\n",
    "\n",
    "predictions = model.predict(S[\"test\"][\"X\"]).flatten()\n",
    "len(predictions)"
   ],
   "metadata": {
    "collapsed": false,
    "pycharm": {
     "name": "#%%\n"
    }
   }
  },
  {
   "cell_type": "code",
   "execution_count": 9,
   "outputs": [
    {
     "data": {
      "text/plain": "   Predictions  Ground Truth\n0     0.099333      0.076111\n1     0.079643      0.071953\n2     0.071039      0.076587\n3     0.075706      0.065371\n4     0.063619      0.061949",
      "text/html": "<div>\n<style scoped>\n    .dataframe tbody tr th:only-of-type {\n        vertical-align: middle;\n    }\n\n    .dataframe tbody tr th {\n        vertical-align: top;\n    }\n\n    .dataframe thead th {\n        text-align: right;\n    }\n</style>\n<table border=\"1\" class=\"dataframe\">\n  <thead>\n    <tr style=\"text-align: right;\">\n      <th></th>\n      <th>Predictions</th>\n      <th>Ground Truth</th>\n    </tr>\n  </thead>\n  <tbody>\n    <tr>\n      <th>0</th>\n      <td>0.099333</td>\n      <td>0.076111</td>\n    </tr>\n    <tr>\n      <th>1</th>\n      <td>0.079643</td>\n      <td>0.071953</td>\n    </tr>\n    <tr>\n      <th>2</th>\n      <td>0.071039</td>\n      <td>0.076587</td>\n    </tr>\n    <tr>\n      <th>3</th>\n      <td>0.075706</td>\n      <td>0.065371</td>\n    </tr>\n    <tr>\n      <th>4</th>\n      <td>0.063619</td>\n      <td>0.061949</td>\n    </tr>\n  </tbody>\n</table>\n</div>"
     },
     "execution_count": 9,
     "metadata": {},
     "output_type": "execute_result"
    }
   ],
   "source": [
    "import pandas as pd\n",
    "\n",
    "test_results = pd.DataFrame(data={\"Predictions\": predictions, \"Ground Truth\": S[\"test\"][\"y\"]})\n",
    "test_results.head()"
   ],
   "metadata": {
    "collapsed": false,
    "pycharm": {
     "name": "#%%\n"
    }
   }
  },
  {
   "cell_type": "code",
   "execution_count": 10,
   "outputs": [
    {
     "name": "stdout",
     "output_type": "stream",
     "text": [
      "Model Scores - (R2): 0.978, (Adj R2): 0.978, (RMSE): 0.233 KW. Model Size - 285191 bytes.\n"
     ]
    }
   ],
   "source": [
    "from ppget.metrics import ModelEvaluation\n",
    "\n",
    "print(ModelEvaluation(expected=test_results[\"Ground Truth\"][:-1],\n",
    "                      predicted=test_results[\"Predictions\"].shift(-1)[:-1],\n",
    "                      m=3,\n",
    "                      model_path=MODEL_NAME,\n",
    "                      builder=b))"
   ],
   "metadata": {
    "collapsed": false,
    "pycharm": {
     "name": "#%%\n"
    }
   }
  },
  {
   "cell_type": "code",
   "execution_count": 11,
   "outputs": [
    {
     "data": {
      "text/plain": "<Figure size 1440x360 with 1 Axes>",
      "image/png": "[encoded data removed]"
     },
     "metadata": {
      "needs_background": "light"
     },
     "output_type": "display_data"
    }
   ],
   "source": [
    "import matplotlib.pyplot as plt\n",
    "\n",
    "fig, ax = plt.subplots(figsize=(20,5))\n",
    "ax.plot(test_results[\"Ground Truth\"], label=\"Ground Truth\")\n",
    "ax.plot(test_results[\"Predictions\"].shift(-1), label=\"Prediction\")\n",
    "\n",
    "plt.legend([\"Ground Truth\", \"Prediction\"])\n",
    "plt.xlim([2200, 2400])\n",
    "plt.show()"
   ],
   "metadata": {
    "collapsed": false,
    "pycharm": {
     "name": "#%%\n"
    }
   }
  }
 ],
 "metadata": {
  "kernelspec": {
   "name": "python3",
   "language": "python",
   "display_name": "Python 3 (ipykernel)"
  },
  "language_info": {
   "codemirror_mode": {
    "name": "ipython",
    "version": 2
   },
   "file_extension": ".py",
   "mimetype": "text/x-python",
   "name": "python",
   "nbconvert_exporter": "python",
   "pygments_lexer": "ipython2",
   "version": "2.7.6"
  }
 },
 "nbformat": 4,
 "nbformat_minor": 0
}