{
 "cells": [
  {
   "cell_type": "code",
   "execution_count": 32,
   "outputs": [
    {
     "data": {
      "text/plain": "Series([], Freq: 10T, Name: Global_active_power, dtype: float64)"
     },
     "execution_count": 32,
     "metadata": {},
     "output_type": "execute_result"
    }
   ],
   "source": [
    "from ppget.source import ModelSource\n",
    "\n",
    "start_date = \"2007-07-01\"\n",
    "end_date = \"2008-07-01\"\n",
    "feature = \"Global_active_power\"\n",
    "\n",
    "source = ModelSource.load(start_date, end_date, feature)\n",
    "source.missing_data()"
   ],
   "metadata": {
    "collapsed": false,
    "pycharm": {
     "name": "#%%\n"
    }
   }
  },
  {
   "cell_type": "code",
   "execution_count": 33,
   "outputs": [],
   "source": [
    "from sklearn.cluster import KMeans\n",
    "import pandas as pd\n",
    "\n",
    "daily_slices = 4\n",
    "\n",
    "series = source.series()\n",
    "kw_hour = pd.DataFrame(zip(list(series.values),list(series.index.hour)))\n",
    "d_kmeans = KMeans(n_clusters=4).fit(kw_hour)"
   ],
   "metadata": {
    "collapsed": false,
    "pycharm": {
     "name": "#%%\n"
    }
   }
  },
  {
   "cell_type": "code",
   "execution_count": 34,
   "outputs": [],
   "source": [
    "monthly_slices = 4\n",
    "\n",
    "kw_month = pd.DataFrame(zip(list(series.values),list(series.index.month)))\n",
    "m_kmeans = KMeans(n_clusters=4).fit(kw_month)"
   ],
   "metadata": {
    "collapsed": false,
    "pycharm": {
     "name": "#%%\n"
    }
   }
  },
  {
   "cell_type": "code",
   "execution_count": 35,
   "outputs": [
    {
     "data": {
      "text/plain": "   daily_slice  monthly_slice\n0            2              0\n1            2              0\n2            2              0\n3            2              0\n4            2              0",
      "text/html": "<div>\n<style scoped>\n    .dataframe tbody tr th:only-of-type {\n        vertical-align: middle;\n    }\n\n    .dataframe tbody tr th {\n        vertical-align: top;\n    }\n\n    .dataframe thead th {\n        text-align: right;\n    }\n</style>\n<table border=\"1\" class=\"dataframe\">\n  <thead>\n    <tr style=\"text-align: right;\">\n      <th></th>\n      <th>daily_slice</th>\n      <th>monthly_slice</th>\n    </tr>\n  </thead>\n  <tbody>\n    <tr>\n      <th>0</th>\n      <td>2</td>\n      <td>0</td>\n    </tr>\n    <tr>\n      <th>1</th>\n      <td>2</td>\n      <td>0</td>\n    </tr>\n    <tr>\n      <th>2</th>\n      <td>2</td>\n      <td>0</td>\n    </tr>\n    <tr>\n      <th>3</th>\n      <td>2</td>\n      <td>0</td>\n    </tr>\n    <tr>\n      <th>4</th>\n      <td>2</td>\n      <td>0</td>\n    </tr>\n  </tbody>\n</table>\n</div>"
     },
     "execution_count": 35,
     "metadata": {},
     "output_type": "execute_result"
    }
   ],
   "source": [
    "cluster_map = pd.DataFrame(zip(list(d_kmeans.predict(kw_hour)),list(m_kmeans.predict(kw_month))))\n",
    "cluster_map.columns = [\"daily_slice\", \"monthly_slice\"]\n",
    "cluster_map.head()"
   ],
   "metadata": {
    "collapsed": false,
    "pycharm": {
     "name": "#%%\n"
    }
   }
  },
  {
   "cell_type": "code",
   "execution_count": 36,
   "outputs": [
    {
     "data": {
      "text/plain": "((47429, 4, 3), (47429,), (5270, 4, 3), (5270,))"
     },
     "execution_count": 36,
     "metadata": {},
     "output_type": "execute_result"
    }
   ],
   "source": [
    "from ppget.datastructure import DatasetBuilder, TrainSplit\n",
    "from tensorflow import one_hot\n",
    "\n",
    "WINDOW = 4\n",
    "MODEL_NAME = \"model/cnn1d_time_cluster/\"\n",
    "\n",
    "b = DatasetBuilder(series, data_split=TrainSplit(), window_size=1)\n",
    "builder = DatasetBuilder(pd.DataFrame(zip(list(b.X.flatten()), d_kmeans.predict(kw_hour), m_kmeans.predict(kw_month))), data_split=TrainSplit(), window_size=WINDOW, normalised=False, all_features=True)\n",
    "\n",
    "S = builder.build_splits()\n",
    "\n",
    "S[\"training\"][\"X\"].shape, S[\"training\"][\"y\"].shape, S[\"test\"][\"X\"].shape, S[\"test\"][\"y\"].shape"
   ],
   "metadata": {
    "collapsed": false,
    "pycharm": {
     "name": "#%%\n"
    }
   }
  },
  {
   "cell_type": "code",
   "execution_count": 37,
   "outputs": [
    {
     "name": "stdout",
     "output_type": "stream",
     "text": [
      "Model: \"sequential_4\"\n",
      "_________________________________________________________________\n",
      "Layer (type)                 Output Shape              Param #   \n",
      "=================================================================\n",
      "conv1d_4 (Conv1D)            (None, 3, 64)             448       \n",
      "_________________________________________________________________\n",
      "flatten_4 (Flatten)          (None, 192)               0         \n",
      "_________________________________________________________________\n",
      "dropout_4 (Dropout)          (None, 192)               0         \n",
      "_________________________________________________________________\n",
      "dense_8 (Dense)              (None, 64)                12352     \n",
      "_________________________________________________________________\n",
      "dense_9 (Dense)              (None, 1)                 65        \n",
      "=================================================================\n",
      "Total params: 12,865\n",
      "Trainable params: 12,865\n",
      "Non-trainable params: 0\n",
      "_________________________________________________________________\n"
     ]
    }
   ],
   "source": [
    "from tensorflow.python.keras.models import Sequential\n",
    "from tensorflow.python.keras.layers import InputLayer, Dense, Conv1D, Flatten, Dropout\n",
    "from tensorflow.python.keras.metrics import RootMeanSquaredError\n",
    "from tensorflow.python.keras.callbacks import ModelCheckpoint, EarlyStopping\n",
    "\n",
    "model = Sequential()\n",
    "model.add(InputLayer((WINDOW, 3)))\n",
    "model.add(Conv1D(64, kernel_size=2, activation='relu'))\n",
    "model.add(Flatten())\n",
    "model.add(Dropout(0.05))\n",
    "model.add(Dense(64, 'relu'))\n",
    "model.add(Dense(1, 'linear'))\n",
    "callbacks = [ModelCheckpoint(MODEL_NAME, monitor=\"val_loss\", save_best_only=True, mode=\"min\"), EarlyStopping(patience=5, monitor=\"val_loss\")]\n",
    "model.compile(loss=\"mse\", optimizer=\"adam\", metrics=[RootMeanSquaredError()])\n",
    "model.summary()"
   ],
   "metadata": {
    "collapsed": false,
    "pycharm": {
     "name": "#%%\n"
    }
   }
  },
  {
   "cell_type": "code",
   "execution_count": 38,
   "outputs": [
    {
     "name": "stdout",
     "output_type": "stream",
     "text": [
      "Epoch 1/25\n",
      "4743/4743 - 7s - loss: 0.0055 - root_mean_squared_error: 0.0742 - val_loss: 0.0036 - val_root_mean_squared_error: 0.0597\n",
      "INFO:tensorflow:Assets written to: model/cnn1d_time_cluster/assets\n",
      "Epoch 2/25\n",
      "4743/4743 - 5s - loss: 0.0041 - root_mean_squared_error: 0.0638 - val_loss: 0.0041 - val_root_mean_squared_error: 0.0643\n",
      "Epoch 3/25\n",
      "4743/4743 - 8s - loss: 0.0040 - root_mean_squared_error: 0.0631 - val_loss: 0.0035 - val_root_mean_squared_error: 0.0594\n",
      "INFO:tensorflow:Assets written to: model/cnn1d_time_cluster/assets\n",
      "Epoch 4/25\n",
      "4743/4743 - 5s - loss: 0.0039 - root_mean_squared_error: 0.0627 - val_loss: 0.0038 - val_root_mean_squared_error: 0.0620\n",
      "Epoch 5/25\n",
      "4743/4743 - 7s - loss: 0.0039 - root_mean_squared_error: 0.0624 - val_loss: 0.0037 - val_root_mean_squared_error: 0.0610\n",
      "Epoch 6/25\n",
      "4743/4743 - 8s - loss: 0.0039 - root_mean_squared_error: 0.0625 - val_loss: 0.0036 - val_root_mean_squared_error: 0.0598\n",
      "Epoch 7/25\n",
      "4743/4743 - 9s - loss: 0.0039 - root_mean_squared_error: 0.0623 - val_loss: 0.0035 - val_root_mean_squared_error: 0.0596\n",
      "Epoch 8/25\n",
      "4743/4743 - 7s - loss: 0.0038 - root_mean_squared_error: 0.0620 - val_loss: 0.0036 - val_root_mean_squared_error: 0.0601\n",
      "min RMSE(validation): 0.0035287863574922085\n",
      "CPU times: user 1min 13s, sys: 18.8 s, total: 1min 31s\n",
      "Wall time: 56.3 s\n"
     ]
    }
   ],
   "source": [
    "%%time\n",
    "h = model.fit(S[\"training\"][\"X\"], S[\"training\"][\"y\"],\n",
    "                    epochs=25,\n",
    "                    batch_size=8,\n",
    "                    validation_split=0.2,\n",
    "                    verbose=2,\n",
    "                    callbacks=callbacks)\n",
    "print(f\"min RMSE(validation): {min(h.history['val_loss'])}\")"
   ],
   "metadata": {
    "collapsed": false,
    "pycharm": {
     "name": "#%%\n"
    }
   }
  },
  {
   "cell_type": "code",
   "execution_count": 39,
   "outputs": [
    {
     "name": "stdout",
     "output_type": "stream",
     "text": [
      "CPU times: user 677 ms, sys: 46.3 ms, total: 723 ms\n",
      "Wall time: 684 ms\n"
     ]
    },
    {
     "data": {
      "text/plain": "5270"
     },
     "execution_count": 39,
     "metadata": {},
     "output_type": "execute_result"
    }
   ],
   "source": [
    "%%time\n",
    "from tensorflow.python.keras.models import load_model\n",
    "\n",
    "model = load_model(MODEL_NAME)\n",
    "\n",
    "predictions = model.predict(S[\"test\"][\"X\"]).flatten()\n",
    "len(predictions)"
   ],
   "metadata": {
    "collapsed": false,
    "pycharm": {
     "name": "#%%\n"
    }
   }
  },
  {
   "cell_type": "code",
   "execution_count": 40,
   "outputs": [
    {
     "data": {
      "text/plain": "   Predictions  Ground Truth\n0     0.090099      0.076111\n1     0.071649      0.071953\n2     0.064845      0.076587\n3     0.069705      0.065371\n4     0.058348      0.061949",
      "text/html": "<div>\n<style scoped>\n    .dataframe tbody tr th:only-of-type {\n        vertical-align: middle;\n    }\n\n    .dataframe tbody tr th {\n        vertical-align: top;\n    }\n\n    .dataframe thead th {\n        text-align: right;\n    }\n</style>\n<table border=\"1\" class=\"dataframe\">\n  <thead>\n    <tr style=\"text-align: right;\">\n      <th></th>\n      <th>Predictions</th>\n      <th>Ground Truth</th>\n    </tr>\n  </thead>\n  <tbody>\n    <tr>\n      <th>0</th>\n      <td>0.090099</td>\n      <td>0.076111</td>\n    </tr>\n    <tr>\n      <th>1</th>\n      <td>0.071649</td>\n      <td>0.071953</td>\n    </tr>\n    <tr>\n      <th>2</th>\n      <td>0.064845</td>\n      <td>0.076587</td>\n    </tr>\n    <tr>\n      <th>3</th>\n      <td>0.069705</td>\n      <td>0.065371</td>\n    </tr>\n    <tr>\n      <th>4</th>\n      <td>0.058348</td>\n      <td>0.061949</td>\n    </tr>\n  </tbody>\n</table>\n</div>"
     },
     "execution_count": 40,
     "metadata": {},
     "output_type": "execute_result"
    }
   ],
   "source": [
    "import pandas as pd\n",
    "\n",
    "test_results = pd.DataFrame(data={\"Predictions\": predictions, \"Ground Truth\": S[\"test\"][\"y\"]})\n",
    "test_results.head()"
   ],
   "metadata": {
    "collapsed": false,
    "pycharm": {
     "name": "#%%\n"
    }
   }
  },
  {
   "cell_type": "code",
   "execution_count": 43,
   "outputs": [
    {
     "name": "stdout",
     "output_type": "stream",
     "text": [
      "Model Score (RMSE): 0.015571833808195717 (normalized [0,1]), Model Size: 286706 bytes\n"
     ]
    }
   ],
   "source": [
    "from sklearn.metrics import mean_squared_error\n",
    "from math import sqrt\n",
    "from pathlib import Path\n",
    "\n",
    "model_score = sqrt(mean_squared_error(test_results[\"Ground Truth\"][:-1], test_results[\"Predictions\"].shift(-1)[:-1]))\n",
    "model_size = sum(file.stat().st_size for file in Path(MODEL_NAME).rglob('*'))\n",
    "print(f\"Model Score (RMSE): {model_score} (normalized [0,1]), Model Size: {model_size} bytes\")"
   ],
   "metadata": {
    "collapsed": false,
    "pycharm": {
     "name": "#%%\n"
    }
   }
  },
  {
   "cell_type": "code",
   "execution_count": 42,
   "outputs": [
    {
     "data": {
      "text/plain": "<Figure size 1440x360 with 1 Axes>",
      "image/png": "[encoded data removed]"
     },
     "metadata": {
      "needs_background": "light"
     },
     "output_type": "display_data"
    }
   ],
   "source": [
    "import matplotlib.pyplot as plt\n",
    "\n",
    "fig, ax = plt.subplots(figsize=(20,5))\n",
    "ax.plot(test_results[\"Ground Truth\"], label=\"Ground Truth\")\n",
    "ax.plot(test_results[\"Predictions\"].shift(-1), label=\"Prediction\")\n",
    "\n",
    "plt.legend([\"Ground Truth\", \"Prediction\"])\n",
    "plt.xlim([2200, 2400])\n",
    "plt.show()"
   ],
   "metadata": {
    "collapsed": false,
    "pycharm": {
     "name": "#%%\n"
    }
   }
  }
 ],
 "metadata": {
  "kernelspec": {
   "display_name": "Python 3",
   "language": "python",
   "name": "python3"
  },
  "language_info": {
   "codemirror_mode": {
    "name": "ipython",
    "version": 2
   },
   "file_extension": ".py",
   "mimetype": "text/x-python",
   "name": "python",
   "nbconvert_exporter": "python",
   "pygments_lexer": "ipython2",
   "version": "2.7.6"
  }
 },
 "nbformat": 4,
 "nbformat_minor": 0
}