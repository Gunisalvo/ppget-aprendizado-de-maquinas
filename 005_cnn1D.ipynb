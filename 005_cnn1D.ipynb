{
 "cells": [
  {
   "cell_type": "code",
   "execution_count": 14,
   "metadata": {
    "collapsed": true,
    "pycharm": {
     "name": "#%%\n"
    }
   },
   "outputs": [
    {
     "data": {
      "text/plain": "Series([], Freq: 10T, Name: Global_active_power, dtype: float64)"
     },
     "execution_count": 14,
     "metadata": {},
     "output_type": "execute_result"
    }
   ],
   "source": [
    "from ppget.source import ModelSource\n",
    "\n",
    "start_date = \"2007-07-01\"\n",
    "end_date = \"2007-08-01\"\n",
    "feature = \"Global_active_power\"\n",
    "\n",
    "source = ModelSource.load(start_date, end_date, feature)\n",
    "source.missing_data()"
   ]
  },
  {
   "cell_type": "code",
   "execution_count": 15,
   "outputs": [
    {
     "data": {
      "text/plain": "timestamp\n2007-07-01 00:00:00    2.6812\n2007-07-01 00:10:00    2.6502\n2007-07-01 00:20:00    2.6266\n2007-07-01 00:30:00    2.5242\n2007-07-01 00:40:00    2.6000\nFreq: 10T, Name: Global_active_power, dtype: float64"
     },
     "execution_count": 15,
     "metadata": {},
     "output_type": "execute_result"
    }
   ],
   "source": [
    "series = source.series()\n",
    "series.head()"
   ],
   "metadata": {
    "collapsed": false,
    "pycharm": {
     "name": "#%%\n"
    }
   }
  },
  {
   "cell_type": "code",
   "execution_count": 16,
   "outputs": [
    {
     "data": {
      "text/plain": "((3532, 48, 1), (3532,), (441, 48, 1), (441,), (443, 48, 1), (443,))"
     },
     "execution_count": 16,
     "metadata": {},
     "output_type": "execute_result"
    }
   ],
   "source": [
    "from ppget.datastructure import DatasetBuilder, TrainSplit\n",
    "\n",
    "WINDOW = 48\n",
    "MODEL_NAME = \"model/cnn1D/\"\n",
    "\n",
    "builder = DatasetBuilder(series, data_split=TrainSplit(train=0.8, validation=0.1), window_size=WINDOW)\n",
    "\n",
    "S = builder.build_splits()\n",
    "\n",
    "S[\"training\"][\"X\"].shape, S[\"training\"][\"y\"].shape, S[\"validation\"][\"X\"].shape, S[\"validation\"][\"y\"].shape, S[\"test\"][\"X\"].shape, S[\"test\"][\"y\"].shape"
   ],
   "metadata": {
    "collapsed": false,
    "pycharm": {
     "name": "#%%\n"
    }
   }
  },
  {
   "cell_type": "code",
   "execution_count": 17,
   "outputs": [
    {
     "name": "stdout",
     "output_type": "stream",
     "text": [
      "Model: \"sequential_4\"\n",
      "_________________________________________________________________\n",
      "Layer (type)                 Output Shape              Param #   \n",
      "=================================================================\n",
      "conv1d_2 (Conv1D)            (None, 47, 64)            192       \n",
      "_________________________________________________________________\n",
      "flatten_2 (Flatten)          (None, 3008)              0         \n",
      "_________________________________________________________________\n",
      "dense_4 (Dense)              (None, 8)                 24072     \n",
      "_________________________________________________________________\n",
      "dense_5 (Dense)              (None, 1)                 9         \n",
      "=================================================================\n",
      "Total params: 24,273\n",
      "Trainable params: 24,273\n",
      "Non-trainable params: 0\n",
      "_________________________________________________________________\n"
     ]
    }
   ],
   "source": [
    "from tensorflow.python.keras.metrics import RootMeanSquaredError\n",
    "from tensorflow.python.keras.optimizer_v2.adam import Adam\n",
    "from tensorflow.python.keras.losses import MeanSquaredError\n",
    "from tensorflow.python.keras.models import Sequential\n",
    "from tensorflow.python.keras.layers import Conv1D, InputLayer, Flatten, Dense\n",
    "from tensorflow.python.keras.callbacks import ModelCheckpoint\n",
    "\n",
    "model = Sequential()\n",
    "model.add(InputLayer((WINDOW, 1)))\n",
    "model.add(Conv1D(64, kernel_size=2))\n",
    "model.add(Flatten())\n",
    "model.add(Dense(8, 'relu'))\n",
    "model.add(Dense(1, 'linear'))\n",
    "checkpoint = ModelCheckpoint(MODEL_NAME, save_best_only=True)\n",
    "model.compile(loss=MeanSquaredError(), optimizer=Adam(learning_rate=0.0001), metrics=[RootMeanSquaredError()])\n",
    "model.summary()"
   ],
   "metadata": {
    "collapsed": false,
    "pycharm": {
     "name": "#%%\n"
    }
   }
  },
  {
   "cell_type": "code",
   "execution_count": 18,
   "outputs": [
    {
     "name": "stdout",
     "output_type": "stream",
     "text": [
      "Epoch 1/100\n",
      "111/111 - 1s - loss: 0.0155 - root_mean_squared_error: 0.1245 - val_loss: 0.0165 - val_root_mean_squared_error: 0.1286\n",
      "INFO:tensorflow:Assets written to: cnn1D/assets\n",
      "Epoch 2/100\n",
      "111/111 - 0s - loss: 0.0105 - root_mean_squared_error: 0.1026 - val_loss: 0.0140 - val_root_mean_squared_error: 0.1182\n",
      "INFO:tensorflow:Assets written to: cnn1D/assets\n",
      "Epoch 3/100\n",
      "111/111 - 0s - loss: 0.0084 - root_mean_squared_error: 0.0917 - val_loss: 0.0126 - val_root_mean_squared_error: 0.1124\n",
      "INFO:tensorflow:Assets written to: cnn1D/assets\n",
      "Epoch 4/100\n",
      "111/111 - 0s - loss: 0.0075 - root_mean_squared_error: 0.0863 - val_loss: 0.0111 - val_root_mean_squared_error: 0.1052\n",
      "INFO:tensorflow:Assets written to: cnn1D/assets\n",
      "Epoch 5/100\n",
      "111/111 - 0s - loss: 0.0069 - root_mean_squared_error: 0.0830 - val_loss: 0.0104 - val_root_mean_squared_error: 0.1018\n",
      "INFO:tensorflow:Assets written to: cnn1D/assets\n",
      "Epoch 6/100\n",
      "111/111 - 0s - loss: 0.0065 - root_mean_squared_error: 0.0806 - val_loss: 0.0096 - val_root_mean_squared_error: 0.0982\n",
      "INFO:tensorflow:Assets written to: cnn1D/assets\n",
      "Epoch 7/100\n",
      "111/111 - 0s - loss: 0.0062 - root_mean_squared_error: 0.0788 - val_loss: 0.0094 - val_root_mean_squared_error: 0.0971\n",
      "INFO:tensorflow:Assets written to: cnn1D/assets\n",
      "Epoch 8/100\n",
      "111/111 - 0s - loss: 0.0060 - root_mean_squared_error: 0.0775 - val_loss: 0.0090 - val_root_mean_squared_error: 0.0951\n",
      "INFO:tensorflow:Assets written to: cnn1D/assets\n",
      "Epoch 9/100\n",
      "111/111 - 0s - loss: 0.0058 - root_mean_squared_error: 0.0764 - val_loss: 0.0088 - val_root_mean_squared_error: 0.0937\n",
      "INFO:tensorflow:Assets written to: cnn1D/assets\n",
      "Epoch 10/100\n",
      "111/111 - 0s - loss: 0.0057 - root_mean_squared_error: 0.0758 - val_loss: 0.0084 - val_root_mean_squared_error: 0.0914\n",
      "INFO:tensorflow:Assets written to: cnn1D/assets\n",
      "Epoch 11/100\n",
      "111/111 - 0s - loss: 0.0056 - root_mean_squared_error: 0.0751 - val_loss: 0.0083 - val_root_mean_squared_error: 0.0911\n",
      "INFO:tensorflow:Assets written to: cnn1D/assets\n",
      "Epoch 12/100\n",
      "111/111 - 0s - loss: 0.0056 - root_mean_squared_error: 0.0749 - val_loss: 0.0089 - val_root_mean_squared_error: 0.0945\n",
      "Epoch 13/100\n",
      "111/111 - 0s - loss: 0.0055 - root_mean_squared_error: 0.0742 - val_loss: 0.0081 - val_root_mean_squared_error: 0.0899\n",
      "INFO:tensorflow:Assets written to: cnn1D/assets\n",
      "Epoch 14/100\n",
      "111/111 - 0s - loss: 0.0055 - root_mean_squared_error: 0.0743 - val_loss: 0.0079 - val_root_mean_squared_error: 0.0891\n",
      "INFO:tensorflow:Assets written to: cnn1D/assets\n",
      "Epoch 15/100\n",
      "111/111 - 0s - loss: 0.0055 - root_mean_squared_error: 0.0744 - val_loss: 0.0077 - val_root_mean_squared_error: 0.0880\n",
      "INFO:tensorflow:Assets written to: cnn1D/assets\n",
      "Epoch 16/100\n",
      "111/111 - 0s - loss: 0.0054 - root_mean_squared_error: 0.0737 - val_loss: 0.0082 - val_root_mean_squared_error: 0.0903\n",
      "Epoch 17/100\n",
      "111/111 - 0s - loss: 0.0054 - root_mean_squared_error: 0.0734 - val_loss: 0.0078 - val_root_mean_squared_error: 0.0884\n",
      "Epoch 18/100\n",
      "111/111 - 0s - loss: 0.0054 - root_mean_squared_error: 0.0735 - val_loss: 0.0077 - val_root_mean_squared_error: 0.0875\n",
      "INFO:tensorflow:Assets written to: cnn1D/assets\n",
      "Epoch 19/100\n",
      "111/111 - 0s - loss: 0.0054 - root_mean_squared_error: 0.0733 - val_loss: 0.0078 - val_root_mean_squared_error: 0.0884\n",
      "Epoch 20/100\n",
      "111/111 - 0s - loss: 0.0054 - root_mean_squared_error: 0.0737 - val_loss: 0.0077 - val_root_mean_squared_error: 0.0877\n",
      "Epoch 21/100\n",
      "111/111 - 0s - loss: 0.0053 - root_mean_squared_error: 0.0730 - val_loss: 0.0079 - val_root_mean_squared_error: 0.0891\n",
      "Epoch 22/100\n",
      "111/111 - 0s - loss: 0.0054 - root_mean_squared_error: 0.0734 - val_loss: 0.0078 - val_root_mean_squared_error: 0.0882\n",
      "Epoch 23/100\n",
      "111/111 - 0s - loss: 0.0054 - root_mean_squared_error: 0.0736 - val_loss: 0.0076 - val_root_mean_squared_error: 0.0870\n",
      "INFO:tensorflow:Assets written to: cnn1D/assets\n",
      "Epoch 24/100\n",
      "111/111 - 0s - loss: 0.0054 - root_mean_squared_error: 0.0734 - val_loss: 0.0077 - val_root_mean_squared_error: 0.0875\n",
      "Epoch 25/100\n",
      "111/111 - 0s - loss: 0.0053 - root_mean_squared_error: 0.0731 - val_loss: 0.0077 - val_root_mean_squared_error: 0.0876\n",
      "Epoch 26/100\n",
      "111/111 - 0s - loss: 0.0054 - root_mean_squared_error: 0.0734 - val_loss: 0.0076 - val_root_mean_squared_error: 0.0872\n",
      "Epoch 27/100\n",
      "111/111 - 0s - loss: 0.0054 - root_mean_squared_error: 0.0734 - val_loss: 0.0077 - val_root_mean_squared_error: 0.0878\n",
      "Epoch 28/100\n",
      "111/111 - 0s - loss: 0.0054 - root_mean_squared_error: 0.0733 - val_loss: 0.0077 - val_root_mean_squared_error: 0.0879\n",
      "Epoch 29/100\n",
      "111/111 - 0s - loss: 0.0053 - root_mean_squared_error: 0.0730 - val_loss: 0.0077 - val_root_mean_squared_error: 0.0878\n",
      "Epoch 30/100\n",
      "111/111 - 0s - loss: 0.0053 - root_mean_squared_error: 0.0729 - val_loss: 0.0075 - val_root_mean_squared_error: 0.0868\n",
      "INFO:tensorflow:Assets written to: cnn1D/assets\n",
      "Epoch 31/100\n",
      "111/111 - 0s - loss: 0.0054 - root_mean_squared_error: 0.0732 - val_loss: 0.0078 - val_root_mean_squared_error: 0.0886\n",
      "Epoch 32/100\n",
      "111/111 - 0s - loss: 0.0053 - root_mean_squared_error: 0.0730 - val_loss: 0.0078 - val_root_mean_squared_error: 0.0885\n",
      "Epoch 33/100\n",
      "111/111 - 0s - loss: 0.0054 - root_mean_squared_error: 0.0732 - val_loss: 0.0076 - val_root_mean_squared_error: 0.0874\n",
      "Epoch 34/100\n",
      "111/111 - 0s - loss: 0.0054 - root_mean_squared_error: 0.0732 - val_loss: 0.0076 - val_root_mean_squared_error: 0.0871\n",
      "Epoch 35/100\n",
      "111/111 - 0s - loss: 0.0054 - root_mean_squared_error: 0.0731 - val_loss: 0.0083 - val_root_mean_squared_error: 0.0912\n",
      "Epoch 36/100\n",
      "111/111 - 0s - loss: 0.0053 - root_mean_squared_error: 0.0729 - val_loss: 0.0076 - val_root_mean_squared_error: 0.0870\n",
      "Epoch 37/100\n",
      "111/111 - 0s - loss: 0.0053 - root_mean_squared_error: 0.0730 - val_loss: 0.0077 - val_root_mean_squared_error: 0.0876\n",
      "Epoch 38/100\n",
      "111/111 - 0s - loss: 0.0054 - root_mean_squared_error: 0.0732 - val_loss: 0.0080 - val_root_mean_squared_error: 0.0897\n",
      "Epoch 39/100\n",
      "111/111 - 0s - loss: 0.0054 - root_mean_squared_error: 0.0734 - val_loss: 0.0077 - val_root_mean_squared_error: 0.0878\n",
      "Epoch 40/100\n",
      "111/111 - 0s - loss: 0.0053 - root_mean_squared_error: 0.0729 - val_loss: 0.0080 - val_root_mean_squared_error: 0.0893\n",
      "Epoch 41/100\n",
      "111/111 - 0s - loss: 0.0053 - root_mean_squared_error: 0.0729 - val_loss: 0.0078 - val_root_mean_squared_error: 0.0884\n",
      "Epoch 42/100\n",
      "111/111 - 0s - loss: 0.0054 - root_mean_squared_error: 0.0732 - val_loss: 0.0077 - val_root_mean_squared_error: 0.0877\n",
      "Epoch 43/100\n",
      "111/111 - 0s - loss: 0.0053 - root_mean_squared_error: 0.0729 - val_loss: 0.0077 - val_root_mean_squared_error: 0.0879\n",
      "Epoch 44/100\n",
      "111/111 - 0s - loss: 0.0053 - root_mean_squared_error: 0.0730 - val_loss: 0.0075 - val_root_mean_squared_error: 0.0868\n",
      "Epoch 45/100\n",
      "111/111 - 0s - loss: 0.0053 - root_mean_squared_error: 0.0729 - val_loss: 0.0075 - val_root_mean_squared_error: 0.0866\n",
      "INFO:tensorflow:Assets written to: cnn1D/assets\n",
      "Epoch 46/100\n",
      "111/111 - 0s - loss: 0.0053 - root_mean_squared_error: 0.0729 - val_loss: 0.0081 - val_root_mean_squared_error: 0.0900\n",
      "Epoch 47/100\n",
      "111/111 - 0s - loss: 0.0053 - root_mean_squared_error: 0.0730 - val_loss: 0.0078 - val_root_mean_squared_error: 0.0884\n",
      "Epoch 48/100\n",
      "111/111 - 0s - loss: 0.0053 - root_mean_squared_error: 0.0729 - val_loss: 0.0075 - val_root_mean_squared_error: 0.0865\n",
      "INFO:tensorflow:Assets written to: cnn1D/assets\n",
      "Epoch 49/100\n",
      "111/111 - 0s - loss: 0.0054 - root_mean_squared_error: 0.0734 - val_loss: 0.0075 - val_root_mean_squared_error: 0.0864\n",
      "INFO:tensorflow:Assets written to: cnn1D/assets\n",
      "Epoch 50/100\n",
      "111/111 - 0s - loss: 0.0053 - root_mean_squared_error: 0.0729 - val_loss: 0.0076 - val_root_mean_squared_error: 0.0871\n",
      "Epoch 51/100\n",
      "111/111 - 0s - loss: 0.0053 - root_mean_squared_error: 0.0729 - val_loss: 0.0076 - val_root_mean_squared_error: 0.0871\n",
      "Epoch 52/100\n",
      "111/111 - 0s - loss: 0.0053 - root_mean_squared_error: 0.0728 - val_loss: 0.0075 - val_root_mean_squared_error: 0.0863\n",
      "INFO:tensorflow:Assets written to: cnn1D/assets\n",
      "Epoch 53/100\n",
      "111/111 - 0s - loss: 0.0053 - root_mean_squared_error: 0.0730 - val_loss: 0.0075 - val_root_mean_squared_error: 0.0866\n",
      "Epoch 54/100\n",
      "111/111 - 0s - loss: 0.0053 - root_mean_squared_error: 0.0730 - val_loss: 0.0077 - val_root_mean_squared_error: 0.0877\n",
      "Epoch 55/100\n",
      "111/111 - 0s - loss: 0.0053 - root_mean_squared_error: 0.0726 - val_loss: 0.0075 - val_root_mean_squared_error: 0.0869\n",
      "Epoch 56/100\n",
      "111/111 - 0s - loss: 0.0053 - root_mean_squared_error: 0.0728 - val_loss: 0.0077 - val_root_mean_squared_error: 0.0880\n",
      "Epoch 57/100\n",
      "111/111 - 0s - loss: 0.0054 - root_mean_squared_error: 0.0732 - val_loss: 0.0076 - val_root_mean_squared_error: 0.0873\n",
      "Epoch 58/100\n",
      "111/111 - 0s - loss: 0.0053 - root_mean_squared_error: 0.0731 - val_loss: 0.0075 - val_root_mean_squared_error: 0.0868\n",
      "Epoch 59/100\n",
      "111/111 - 0s - loss: 0.0053 - root_mean_squared_error: 0.0730 - val_loss: 0.0077 - val_root_mean_squared_error: 0.0877\n",
      "Epoch 60/100\n",
      "111/111 - 0s - loss: 0.0053 - root_mean_squared_error: 0.0727 - val_loss: 0.0076 - val_root_mean_squared_error: 0.0871\n",
      "Epoch 61/100\n",
      "111/111 - 0s - loss: 0.0053 - root_mean_squared_error: 0.0728 - val_loss: 0.0077 - val_root_mean_squared_error: 0.0875\n",
      "Epoch 62/100\n",
      "111/111 - 0s - loss: 0.0053 - root_mean_squared_error: 0.0728 - val_loss: 0.0077 - val_root_mean_squared_error: 0.0880\n",
      "Epoch 63/100\n",
      "111/111 - 0s - loss: 0.0053 - root_mean_squared_error: 0.0727 - val_loss: 0.0075 - val_root_mean_squared_error: 0.0869\n",
      "Epoch 64/100\n",
      "111/111 - 0s - loss: 0.0053 - root_mean_squared_error: 0.0728 - val_loss: 0.0075 - val_root_mean_squared_error: 0.0865\n",
      "Epoch 65/100\n",
      "111/111 - 0s - loss: 0.0053 - root_mean_squared_error: 0.0729 - val_loss: 0.0077 - val_root_mean_squared_error: 0.0877\n",
      "Epoch 66/100\n",
      "111/111 - 0s - loss: 0.0053 - root_mean_squared_error: 0.0727 - val_loss: 0.0077 - val_root_mean_squared_error: 0.0879\n",
      "Epoch 67/100\n",
      "111/111 - 0s - loss: 0.0053 - root_mean_squared_error: 0.0729 - val_loss: 0.0075 - val_root_mean_squared_error: 0.0866\n",
      "Epoch 68/100\n",
      "111/111 - 0s - loss: 0.0053 - root_mean_squared_error: 0.0728 - val_loss: 0.0075 - val_root_mean_squared_error: 0.0869\n",
      "Epoch 69/100\n",
      "111/111 - 0s - loss: 0.0053 - root_mean_squared_error: 0.0727 - val_loss: 0.0075 - val_root_mean_squared_error: 0.0864\n",
      "Epoch 70/100\n",
      "111/111 - 0s - loss: 0.0053 - root_mean_squared_error: 0.0727 - val_loss: 0.0074 - val_root_mean_squared_error: 0.0862\n",
      "INFO:tensorflow:Assets written to: cnn1D/assets\n",
      "Epoch 71/100\n",
      "111/111 - 0s - loss: 0.0053 - root_mean_squared_error: 0.0727 - val_loss: 0.0076 - val_root_mean_squared_error: 0.0871\n",
      "Epoch 72/100\n",
      "111/111 - 0s - loss: 0.0053 - root_mean_squared_error: 0.0726 - val_loss: 0.0083 - val_root_mean_squared_error: 0.0908\n",
      "Epoch 73/100\n",
      "111/111 - 0s - loss: 0.0053 - root_mean_squared_error: 0.0730 - val_loss: 0.0077 - val_root_mean_squared_error: 0.0880\n",
      "Epoch 74/100\n",
      "111/111 - 0s - loss: 0.0053 - root_mean_squared_error: 0.0727 - val_loss: 0.0076 - val_root_mean_squared_error: 0.0872\n",
      "Epoch 75/100\n",
      "111/111 - 0s - loss: 0.0053 - root_mean_squared_error: 0.0727 - val_loss: 0.0077 - val_root_mean_squared_error: 0.0876\n",
      "Epoch 76/100\n",
      "111/111 - 0s - loss: 0.0053 - root_mean_squared_error: 0.0728 - val_loss: 0.0077 - val_root_mean_squared_error: 0.0878\n",
      "Epoch 77/100\n",
      "111/111 - 0s - loss: 0.0053 - root_mean_squared_error: 0.0726 - val_loss: 0.0078 - val_root_mean_squared_error: 0.0883\n",
      "Epoch 78/100\n",
      "111/111 - 0s - loss: 0.0053 - root_mean_squared_error: 0.0727 - val_loss: 0.0074 - val_root_mean_squared_error: 0.0861\n",
      "INFO:tensorflow:Assets written to: cnn1D/assets\n",
      "Epoch 79/100\n",
      "111/111 - 0s - loss: 0.0053 - root_mean_squared_error: 0.0725 - val_loss: 0.0076 - val_root_mean_squared_error: 0.0872\n",
      "Epoch 80/100\n",
      "111/111 - 0s - loss: 0.0053 - root_mean_squared_error: 0.0725 - val_loss: 0.0075 - val_root_mean_squared_error: 0.0868\n",
      "Epoch 81/100\n",
      "111/111 - 0s - loss: 0.0053 - root_mean_squared_error: 0.0728 - val_loss: 0.0075 - val_root_mean_squared_error: 0.0864\n",
      "Epoch 82/100\n",
      "111/111 - 0s - loss: 0.0053 - root_mean_squared_error: 0.0726 - val_loss: 0.0074 - val_root_mean_squared_error: 0.0863\n",
      "Epoch 83/100\n",
      "111/111 - 0s - loss: 0.0053 - root_mean_squared_error: 0.0726 - val_loss: 0.0074 - val_root_mean_squared_error: 0.0860\n",
      "INFO:tensorflow:Assets written to: cnn1D/assets\n",
      "Epoch 84/100\n",
      "111/111 - 0s - loss: 0.0052 - root_mean_squared_error: 0.0724 - val_loss: 0.0078 - val_root_mean_squared_error: 0.0884\n",
      "Epoch 85/100\n",
      "111/111 - 0s - loss: 0.0052 - root_mean_squared_error: 0.0723 - val_loss: 0.0077 - val_root_mean_squared_error: 0.0880\n",
      "Epoch 86/100\n",
      "111/111 - 0s - loss: 0.0052 - root_mean_squared_error: 0.0723 - val_loss: 0.0075 - val_root_mean_squared_error: 0.0867\n",
      "Epoch 87/100\n",
      "111/111 - 0s - loss: 0.0053 - root_mean_squared_error: 0.0726 - val_loss: 0.0076 - val_root_mean_squared_error: 0.0873\n",
      "Epoch 88/100\n",
      "111/111 - 0s - loss: 0.0052 - root_mean_squared_error: 0.0724 - val_loss: 0.0076 - val_root_mean_squared_error: 0.0874\n",
      "Epoch 89/100\n",
      "111/111 - 0s - loss: 0.0052 - root_mean_squared_error: 0.0723 - val_loss: 0.0074 - val_root_mean_squared_error: 0.0859\n",
      "INFO:tensorflow:Assets written to: cnn1D/assets\n",
      "Epoch 90/100\n",
      "111/111 - 0s - loss: 0.0052 - root_mean_squared_error: 0.0722 - val_loss: 0.0076 - val_root_mean_squared_error: 0.0872\n",
      "Epoch 91/100\n",
      "111/111 - 0s - loss: 0.0052 - root_mean_squared_error: 0.0722 - val_loss: 0.0076 - val_root_mean_squared_error: 0.0869\n",
      "Epoch 92/100\n",
      "111/111 - 0s - loss: 0.0052 - root_mean_squared_error: 0.0721 - val_loss: 0.0075 - val_root_mean_squared_error: 0.0865\n",
      "Epoch 93/100\n",
      "111/111 - 0s - loss: 0.0052 - root_mean_squared_error: 0.0721 - val_loss: 0.0075 - val_root_mean_squared_error: 0.0867\n",
      "Epoch 94/100\n",
      "111/111 - 0s - loss: 0.0052 - root_mean_squared_error: 0.0723 - val_loss: 0.0076 - val_root_mean_squared_error: 0.0873\n",
      "Epoch 95/100\n",
      "111/111 - 0s - loss: 0.0052 - root_mean_squared_error: 0.0723 - val_loss: 0.0076 - val_root_mean_squared_error: 0.0873\n",
      "Epoch 96/100\n",
      "111/111 - 0s - loss: 0.0052 - root_mean_squared_error: 0.0722 - val_loss: 0.0075 - val_root_mean_squared_error: 0.0869\n",
      "Epoch 97/100\n",
      "111/111 - 0s - loss: 0.0052 - root_mean_squared_error: 0.0722 - val_loss: 0.0076 - val_root_mean_squared_error: 0.0872\n",
      "Epoch 98/100\n",
      "111/111 - 0s - loss: 0.0052 - root_mean_squared_error: 0.0723 - val_loss: 0.0075 - val_root_mean_squared_error: 0.0866\n",
      "Epoch 99/100\n",
      "111/111 - 0s - loss: 0.0052 - root_mean_squared_error: 0.0721 - val_loss: 0.0079 - val_root_mean_squared_error: 0.0886\n",
      "Epoch 100/100\n",
      "111/111 - 0s - loss: 0.0052 - root_mean_squared_error: 0.0724 - val_loss: 0.0074 - val_root_mean_squared_error: 0.0861\n",
      "CPU times: user 1min 16s, sys: 11 s, total: 1min 27s\n",
      "Wall time: 57.4 s\n"
     ]
    }
   ],
   "source": [
    "%%time\n",
    "history = model.fit(S[\"training\"][\"X\"], S[\"training\"][\"y\"],\n",
    "                    epochs=100,\n",
    "                    validation_data=(S[\"validation\"][\"X\"], S[\"validation\"][\"y\"]),\n",
    "                    verbose=2,\n",
    "                    callbacks=[checkpoint])"
   ],
   "metadata": {
    "collapsed": false,
    "pycharm": {
     "name": "#%%\n"
    }
   }
  },
  {
   "cell_type": "code",
   "execution_count": 19,
   "outputs": [
    {
     "data": {
      "text/plain": "443"
     },
     "execution_count": 19,
     "metadata": {},
     "output_type": "execute_result"
    }
   ],
   "source": [
    "from tensorflow.python.keras.models import load_model\n",
    "\n",
    "model = load_model(MODEL_NAME)\n",
    "\n",
    "predictions = model.predict(S[\"test\"][\"X\"]).flatten()\n",
    "len(predictions)"
   ],
   "metadata": {
    "collapsed": false,
    "pycharm": {
     "name": "#%%\n"
    }
   }
  },
  {
   "cell_type": "code",
   "execution_count": 21,
   "outputs": [
    {
     "data": {
      "text/plain": "     Predictions  Ground Truth\n0       1.049751        1.2148\n1       1.132837        1.2666\n2       1.125385        0.4182\n3       0.317907        0.1020\n4       0.127305        0.1808\n..           ...           ...\n438     0.459196        0.2134\n439     0.264991        0.1364\n440     0.307450        0.1986\n441     0.230649        0.2518\n442     0.353219        0.1394\n\n[443 rows x 2 columns]",
      "text/html": "<div>\n<style scoped>\n    .dataframe tbody tr th:only-of-type {\n        vertical-align: middle;\n    }\n\n    .dataframe tbody tr th {\n        vertical-align: top;\n    }\n\n    .dataframe thead th {\n        text-align: right;\n    }\n</style>\n<table border=\"1\" class=\"dataframe\">\n  <thead>\n    <tr style=\"text-align: right;\">\n      <th></th>\n      <th>Predictions</th>\n      <th>Ground Truth</th>\n    </tr>\n  </thead>\n  <tbody>\n    <tr>\n      <th>0</th>\n      <td>1.049751</td>\n      <td>1.2148</td>\n    </tr>\n    <tr>\n      <th>1</th>\n      <td>1.132837</td>\n      <td>1.2666</td>\n    </tr>\n    <tr>\n      <th>2</th>\n      <td>1.125385</td>\n      <td>0.4182</td>\n    </tr>\n    <tr>\n      <th>3</th>\n      <td>0.317907</td>\n      <td>0.1020</td>\n    </tr>\n    <tr>\n      <th>4</th>\n      <td>0.127305</td>\n      <td>0.1808</td>\n    </tr>\n    <tr>\n      <th>...</th>\n      <td>...</td>\n      <td>...</td>\n    </tr>\n    <tr>\n      <th>438</th>\n      <td>0.459196</td>\n      <td>0.2134</td>\n    </tr>\n    <tr>\n      <th>439</th>\n      <td>0.264991</td>\n      <td>0.1364</td>\n    </tr>\n    <tr>\n      <th>440</th>\n      <td>0.307450</td>\n      <td>0.1986</td>\n    </tr>\n    <tr>\n      <th>441</th>\n      <td>0.230649</td>\n      <td>0.2518</td>\n    </tr>\n    <tr>\n      <th>442</th>\n      <td>0.353219</td>\n      <td>0.1394</td>\n    </tr>\n  </tbody>\n</table>\n<p>443 rows × 2 columns</p>\n</div>"
     },
     "execution_count": 21,
     "metadata": {},
     "output_type": "execute_result"
    }
   ],
   "source": [
    "import pandas as pd\n",
    "\n",
    "test_results = pd.DataFrame(data={\"Predictions\": builder.denormalise(predictions), \"Ground Truth\": builder.denormalise(S[\"test\"][\"y\"])})\n",
    "test_results"
   ],
   "metadata": {
    "collapsed": false,
    "pycharm": {
     "name": "#%%\n"
    }
   }
  },
  {
   "cell_type": "code",
   "execution_count": 24,
   "outputs": [
    {
     "data": {
      "text/plain": "<Figure size 1440x360 with 1 Axes>",
      "image/png": "[encoded data removed]"
     },
     "metadata": {
      "needs_background": "light"
     },
     "output_type": "display_data"
    }
   ],
   "source": [
    "import matplotlib.pyplot as plt\n",
    "import matplotlib as mplt\n",
    "mplt.rcParams[\"figure.figsize\"] = (20,5)\n",
    "\n",
    "# plt.xlim([100, 200])\n",
    "plt.plot(test_results[\"Ground Truth\"])\n",
    "plt.plot(test_results[\"Predictions\"])\n",
    "plt.show()"
   ],
   "metadata": {
    "collapsed": false,
    "pycharm": {
     "name": "#%%\n"
    }
   }
  },
  {
   "cell_type": "code",
   "execution_count": null,
   "outputs": [],
   "source": [],
   "metadata": {
    "collapsed": false,
    "pycharm": {
     "name": "#%%\n"
    }
   }
  }
 ],
 "metadata": {
  "kernelspec": {
   "name": "python3",
   "language": "python",
   "display_name": "Python 3 (ipykernel)"
  },
  "language_info": {
   "codemirror_mode": {
    "name": "ipython",
    "version": 2
   },
   "file_extension": ".py",
   "mimetype": "text/x-python",
   "name": "python",
   "nbconvert_exporter": "python",
   "pygments_lexer": "ipython2",
   "version": "2.7.6"
  }
 },
 "nbformat": 4,
 "nbformat_minor": 0
}