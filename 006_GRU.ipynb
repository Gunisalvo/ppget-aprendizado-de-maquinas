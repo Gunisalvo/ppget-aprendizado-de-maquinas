{
 "cells": [
  {
   "cell_type": "code",
   "execution_count": 1,
   "metadata": {
    "collapsed": true,
    "pycharm": {
     "name": "#%%\n"
    }
   },
   "outputs": [
    {
     "data": {
      "text/plain": "Series([], Freq: 10T, Name: Global_active_power, dtype: float64)"
     },
     "execution_count": 1,
     "metadata": {},
     "output_type": "execute_result"
    }
   ],
   "source": [
    "from ppget.source import ModelSource\n",
    "\n",
    "start_date = \"2007-07-01\"\n",
    "end_date = \"2008-07-01\"\n",
    "feature = \"Global_active_power\"\n",
    "\n",
    "source = ModelSource.load(start_date, end_date, feature)\n",
    "source.missing_data()"
   ]
  },
  {
   "cell_type": "code",
   "execution_count": 2,
   "outputs": [
    {
     "data": {
      "text/plain": "timestamp\n2007-07-01 00:00:00    2.6812\n2007-07-01 00:10:00    2.6502\n2007-07-01 00:20:00    2.6266\n2007-07-01 00:30:00    2.5242\n2007-07-01 00:40:00    2.6000\nFreq: 10T, Name: Global_active_power, dtype: float64"
     },
     "execution_count": 2,
     "metadata": {},
     "output_type": "execute_result"
    }
   ],
   "source": [
    "series = source.series()\n",
    "series.head()"
   ],
   "metadata": {
    "collapsed": false,
    "pycharm": {
     "name": "#%%\n"
    }
   }
  },
  {
   "cell_type": "code",
   "execution_count": 3,
   "outputs": [
    {
     "data": {
      "text/plain": "((47430, 4, 1), (47430,), (5270, 4, 1), (5270,))"
     },
     "execution_count": 3,
     "metadata": {},
     "output_type": "execute_result"
    }
   ],
   "source": [
    "from ppget.datastructure import DatasetBuilder, TrainSplit\n",
    "\n",
    "WINDOW = 4\n",
    "MODEL_NAME = \"model/gru/\"\n",
    "\n",
    "builder = DatasetBuilder(series, data_split=TrainSplit(), window_size=WINDOW)\n",
    "\n",
    "S = builder.build_splits()\n",
    "\n",
    "S[\"training\"][\"X\"].shape, S[\"training\"][\"y\"].shape, S[\"test\"][\"X\"].shape, S[\"test\"][\"y\"].shape"
   ],
   "metadata": {
    "collapsed": false,
    "pycharm": {
     "name": "#%%\n"
    }
   }
  },
  {
   "cell_type": "code",
   "execution_count": 4,
   "outputs": [
    {
     "name": "stdout",
     "output_type": "stream",
     "text": [
      "Model: \"sequential\"\n",
      "_________________________________________________________________\n",
      "Layer (type)                 Output Shape              Param #   \n",
      "=================================================================\n",
      "gru (GRU)                    (None, 64)                12672     \n",
      "_________________________________________________________________\n",
      "dense (Dense)                (None, 64)                4160      \n",
      "_________________________________________________________________\n",
      "dense_1 (Dense)              (None, 1)                 65        \n",
      "=================================================================\n",
      "Total params: 16,897\n",
      "Trainable params: 16,897\n",
      "Non-trainable params: 0\n",
      "_________________________________________________________________\n"
     ]
    },
    {
     "name": "stderr",
     "output_type": "stream",
     "text": [
      "2022-06-04 05:26:04.228232: I tensorflow/core/platform/cpu_feature_guard.cc:193] This TensorFlow binary is optimized with oneAPI Deep Neural Network Library (oneDNN) to use the following CPU instructions in performance-critical operations:  AVX2 FMA\n",
      "To enable them in other operations, rebuild TensorFlow with the appropriate compiler flags.\n"
     ]
    }
   ],
   "source": [
    "from tensorflow.python.keras.models import Sequential\n",
    "from tensorflow.python.keras.layers import InputLayer, Dense, GRU, Dropout\n",
    "from tensorflow.python.keras.metrics import RootMeanSquaredError\n",
    "from tensorflow.python.keras.callbacks import ModelCheckpoint, EarlyStopping\n",
    "\n",
    "model = Sequential()\n",
    "model.add(InputLayer((WINDOW, 1)))\n",
    "model.add(GRU(64, dropout=0.05))\n",
    "model.add(Dense(64, 'relu'))\n",
    "model.add(Dense(1, 'linear'))\n",
    "callbacks = [ModelCheckpoint(MODEL_NAME, monitor=\"val_loss\", save_best_only=True, mode=\"min\"), EarlyStopping(patience=5, monitor=\"val_loss\")]\n",
    "model.compile(loss=\"mse\", optimizer=\"adam\", metrics=[RootMeanSquaredError()])\n",
    "model.summary()"
   ],
   "metadata": {
    "collapsed": false,
    "pycharm": {
     "name": "#%%\n"
    }
   }
  },
  {
   "cell_type": "code",
   "execution_count": 5,
   "outputs": [
    {
     "name": "stdout",
     "output_type": "stream",
     "text": [
      "Epoch 1/25\n",
      "4743/4743 - 10s - loss: 0.0047 - root_mean_squared_error: 0.0684 - val_loss: 0.0038 - val_root_mean_squared_error: 0.0620\n",
      "INFO:tensorflow:Assets written to: model/gru/assets\n",
      "Epoch 2/25\n",
      "4743/4743 - 8s - loss: 0.0042 - root_mean_squared_error: 0.0651 - val_loss: 0.0042 - val_root_mean_squared_error: 0.0645\n",
      "Epoch 3/25\n",
      "4743/4743 - 9s - loss: 0.0041 - root_mean_squared_error: 0.0640 - val_loss: 0.0035 - val_root_mean_squared_error: 0.0590\n",
      "INFO:tensorflow:Assets written to: model/gru/assets\n",
      "Epoch 4/25\n",
      "4743/4743 - 9s - loss: 0.0041 - root_mean_squared_error: 0.0637 - val_loss: 0.0035 - val_root_mean_squared_error: 0.0595\n",
      "Epoch 5/25\n",
      "4743/4743 - 9s - loss: 0.0040 - root_mean_squared_error: 0.0633 - val_loss: 0.0036 - val_root_mean_squared_error: 0.0604\n",
      "Epoch 6/25\n",
      "4743/4743 - 9s - loss: 0.0040 - root_mean_squared_error: 0.0629 - val_loss: 0.0034 - val_root_mean_squared_error: 0.0586\n",
      "INFO:tensorflow:Assets written to: model/gru/assets\n",
      "Epoch 7/25\n",
      "4743/4743 - 13s - loss: 0.0040 - root_mean_squared_error: 0.0630 - val_loss: 0.0037 - val_root_mean_squared_error: 0.0605\n",
      "Epoch 8/25\n",
      "4743/4743 - 13s - loss: 0.0039 - root_mean_squared_error: 0.0626 - val_loss: 0.0034 - val_root_mean_squared_error: 0.0587\n",
      "Epoch 9/25\n",
      "4743/4743 - 13s - loss: 0.0039 - root_mean_squared_error: 0.0628 - val_loss: 0.0036 - val_root_mean_squared_error: 0.0599\n",
      "Epoch 10/25\n",
      "4743/4743 - 15s - loss: 0.0039 - root_mean_squared_error: 0.0627 - val_loss: 0.0036 - val_root_mean_squared_error: 0.0597\n",
      "Epoch 11/25\n",
      "4743/4743 - 15s - loss: 0.0039 - root_mean_squared_error: 0.0625 - val_loss: 0.0034 - val_root_mean_squared_error: 0.0585\n",
      "INFO:tensorflow:Assets written to: model/gru/assets\n",
      "Epoch 12/25\n",
      "4743/4743 - 16s - loss: 0.0039 - root_mean_squared_error: 0.0626 - val_loss: 0.0037 - val_root_mean_squared_error: 0.0610\n",
      "Epoch 13/25\n",
      "4743/4743 - 17s - loss: 0.0039 - root_mean_squared_error: 0.0621 - val_loss: 0.0036 - val_root_mean_squared_error: 0.0597\n",
      "Epoch 14/25\n",
      "4743/4743 - 15s - loss: 0.0039 - root_mean_squared_error: 0.0625 - val_loss: 0.0035 - val_root_mean_squared_error: 0.0590\n",
      "Epoch 15/25\n",
      "4743/4743 - 15s - loss: 0.0039 - root_mean_squared_error: 0.0623 - val_loss: 0.0035 - val_root_mean_squared_error: 0.0594\n",
      "Epoch 16/25\n",
      "4743/4743 - 16s - loss: 0.0039 - root_mean_squared_error: 0.0622 - val_loss: 0.0035 - val_root_mean_squared_error: 0.0592\n",
      "min RMSE(validation): 0.003422707086429\n",
      "CPU times: user 7min 44s, sys: 2min 1s, total: 9min 45s\n",
      "Wall time: 3min 35s\n"
     ]
    }
   ],
   "source": [
    "%%time\n",
    "h = model.fit(S[\"training\"][\"X\"], S[\"training\"][\"y\"],\n",
    "                    epochs=25,\n",
    "                    batch_size=8,\n",
    "                    validation_split=0.2,\n",
    "                    verbose=2,\n",
    "                    callbacks=callbacks)\n",
    "print(f\"min RMSE(validation): {min(h.history['val_loss'])}\")"
   ],
   "metadata": {
    "collapsed": false,
    "pycharm": {
     "name": "#%%\n"
    }
   }
  },
  {
   "cell_type": "code",
   "execution_count": 6,
   "outputs": [
    {
     "name": "stdout",
     "output_type": "stream",
     "text": [
      "CPU times: user 2.51 s, sys: 156 ms, total: 2.67 s\n",
      "Wall time: 2.43 s\n"
     ]
    },
    {
     "data": {
      "text/plain": "5270"
     },
     "execution_count": 6,
     "metadata": {},
     "output_type": "execute_result"
    }
   ],
   "source": [
    "%%time\n",
    "from tensorflow.python.keras.models import load_model\n",
    "\n",
    "model = load_model(MODEL_NAME)\n",
    "\n",
    "predictions = model.predict(S[\"test\"][\"X\"]).flatten()\n",
    "len(predictions)"
   ],
   "metadata": {
    "collapsed": false,
    "pycharm": {
     "name": "#%%\n"
    }
   }
  },
  {
   "cell_type": "code",
   "execution_count": 7,
   "outputs": [
    {
     "data": {
      "text/plain": "   Predictions  Ground Truth\n0     0.085914      0.071953\n1     0.083383      0.076587\n2     0.090938      0.065371\n3     0.073184      0.061949\n4     0.069770      0.077062",
      "text/html": "<div>\n<style scoped>\n    .dataframe tbody tr th:only-of-type {\n        vertical-align: middle;\n    }\n\n    .dataframe tbody tr th {\n        vertical-align: top;\n    }\n\n    .dataframe thead th {\n        text-align: right;\n    }\n</style>\n<table border=\"1\" class=\"dataframe\">\n  <thead>\n    <tr style=\"text-align: right;\">\n      <th></th>\n      <th>Predictions</th>\n      <th>Ground Truth</th>\n    </tr>\n  </thead>\n  <tbody>\n    <tr>\n      <th>0</th>\n      <td>0.085914</td>\n      <td>0.071953</td>\n    </tr>\n    <tr>\n      <th>1</th>\n      <td>0.083383</td>\n      <td>0.076587</td>\n    </tr>\n    <tr>\n      <th>2</th>\n      <td>0.090938</td>\n      <td>0.065371</td>\n    </tr>\n    <tr>\n      <th>3</th>\n      <td>0.073184</td>\n      <td>0.061949</td>\n    </tr>\n    <tr>\n      <th>4</th>\n      <td>0.069770</td>\n      <td>0.077062</td>\n    </tr>\n  </tbody>\n</table>\n</div>"
     },
     "execution_count": 7,
     "metadata": {},
     "output_type": "execute_result"
    }
   ],
   "source": [
    "import pandas as pd\n",
    "\n",
    "test_results = pd.DataFrame(data={\"Predictions\": predictions, \"Ground Truth\": S[\"test\"][\"y\"]})\n",
    "test_results.head()"
   ],
   "metadata": {
    "collapsed": false,
    "pycharm": {
     "name": "#%%\n"
    }
   }
  },
  {
   "cell_type": "code",
   "execution_count": 12,
   "outputs": [
    {
     "name": "stdout",
     "output_type": "stream",
     "text": [
      "Model Scores - (R2): 0.975, (RMSE): 0.242 KW.  Model Size - 778047 bytes\n"
     ]
    }
   ],
   "source": [
    "from sklearn.metrics import mean_squared_error, r2_score\n",
    "from math import sqrt\n",
    "from pathlib import Path\n",
    "import numpy as np\n",
    "\n",
    "model_score = sqrt(mean_squared_error(test_results[\"Ground Truth\"][:-1], test_results[\"Predictions\"].shift(-1)[:-1]))\n",
    "model_r2 = r2_score(test_results[\"Ground Truth\"][:-1], test_results[\"Predictions\"].shift(-1)[:-1])\n",
    "model_size = sum(file.stat().st_size for file in Path(MODEL_NAME).rglob('*'))\n",
    "print(f\"Model Scores - (R2): {model_r2:.3f}, (RMSE): {builder.denormalise(np.array([model_score]))[0]:.3f} KW.  Model Size - {model_size} bytes\")"
   ],
   "metadata": {
    "collapsed": false,
    "pycharm": {
     "name": "#%%\n"
    }
   }
  },
  {
   "cell_type": "code",
   "execution_count": 9,
   "outputs": [
    {
     "data": {
      "text/plain": "<Figure size 1440x360 with 1 Axes>",
      "image/png": "[encoded data removed]"
     },
     "metadata": {
      "needs_background": "light"
     },
     "output_type": "display_data"
    }
   ],
   "source": [
    "import matplotlib.pyplot as plt\n",
    "\n",
    "fig, ax = plt.subplots(figsize=(20,5))\n",
    "ax.plot(test_results[\"Ground Truth\"], label=\"Ground Truth\")\n",
    "ax.plot(test_results[\"Predictions\"].shift(-1), label=\"Prediction\")\n",
    "\n",
    "plt.legend([\"Ground Truth\", \"Prediction\"])\n",
    "plt.xlim([2200, 2400])\n",
    "plt.show()"
   ],
   "metadata": {
    "collapsed": false,
    "pycharm": {
     "name": "#%%\n"
    }
   }
  }
 ],
 "metadata": {
  "kernelspec": {
   "name": "python3",
   "language": "python",
   "display_name": "Python 3 (ipykernel)"
  },
  "language_info": {
   "codemirror_mode": {
    "name": "ipython",
    "version": 2
   },
   "file_extension": ".py",
   "mimetype": "text/x-python",
   "name": "python",
   "nbconvert_exporter": "python",
   "pygments_lexer": "ipython2",
   "version": "2.7.6"
  }
 },
 "nbformat": 4,
 "nbformat_minor": 0
}